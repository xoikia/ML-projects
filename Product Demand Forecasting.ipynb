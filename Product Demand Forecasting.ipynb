{
 "cells": [
  {
   "cell_type": "markdown",
   "metadata": {},
   "source": [
    "# End to End Project - Product Demand Forecasting"
   ]
  },
  {
   "cell_type": "code",
   "execution_count": 1,
   "metadata": {},
   "outputs": [],
   "source": [
    "import numpy as np\n",
    "import pandas as pd\n",
    "import matplotlib.pyplot as plt\n",
    "import seaborn as sns\n",
    "import holidays"
   ]
  },
  {
   "cell_type": "code",
   "execution_count": 2,
   "metadata": {},
   "outputs": [],
   "source": [
    "%matplotlib inline"
   ]
  },
  {
   "cell_type": "code",
   "execution_count": 3,
   "metadata": {},
   "outputs": [],
   "source": [
    "sales_value=pd.read_csv('demand_sales_order_2014_2015')"
   ]
  },
  {
   "cell_type": "code",
   "execution_count": 4,
   "metadata": {},
   "outputs": [
    {
     "data": {
      "text/html": [
       "<div>\n",
       "<style scoped>\n",
       "    .dataframe tbody tr th:only-of-type {\n",
       "        vertical-align: middle;\n",
       "    }\n",
       "\n",
       "    .dataframe tbody tr th {\n",
       "        vertical-align: top;\n",
       "    }\n",
       "\n",
       "    .dataframe thead th {\n",
       "        text-align: right;\n",
       "    }\n",
       "</style>\n",
       "<table border=\"1\" class=\"dataframe\">\n",
       "  <thead>\n",
       "    <tr style=\"text-align: right;\">\n",
       "      <th></th>\n",
       "      <th>CustomerId</th>\n",
       "      <th>OrderDate</th>\n",
       "      <th>SalesOrderNumber</th>\n",
       "      <th>TerritoryID</th>\n",
       "      <th>ProductID</th>\n",
       "      <th>UnitPrice</th>\n",
       "      <th>OrderQty</th>\n",
       "    </tr>\n",
       "  </thead>\n",
       "  <tbody>\n",
       "    <tr>\n",
       "      <td>0</td>\n",
       "      <td>11217</td>\n",
       "      <td>2014/01/03 00:00</td>\n",
       "      <td>SO76869</td>\n",
       "      <td>1</td>\n",
       "      <td>771</td>\n",
       "      <td>2039.994</td>\n",
       "      <td>1</td>\n",
       "    </tr>\n",
       "    <tr>\n",
       "      <td>1</td>\n",
       "      <td>11217</td>\n",
       "      <td>2014/01/03 00:00</td>\n",
       "      <td>SO297124</td>\n",
       "      <td>1</td>\n",
       "      <td>996</td>\n",
       "      <td>72.894</td>\n",
       "      <td>3</td>\n",
       "    </tr>\n",
       "    <tr>\n",
       "      <td>2</td>\n",
       "      <td>11217</td>\n",
       "      <td>2014/01/03 00:00</td>\n",
       "      <td>SO485914</td>\n",
       "      <td>1</td>\n",
       "      <td>957</td>\n",
       "      <td>1430.442</td>\n",
       "      <td>4</td>\n",
       "    </tr>\n",
       "    <tr>\n",
       "      <td>3</td>\n",
       "      <td>11217</td>\n",
       "      <td>2014/01/03 00:00</td>\n",
       "      <td>SO76869</td>\n",
       "      <td>1</td>\n",
       "      <td>771</td>\n",
       "      <td>2039.994</td>\n",
       "      <td>1</td>\n",
       "    </tr>\n",
       "    <tr>\n",
       "      <td>4</td>\n",
       "      <td>11217</td>\n",
       "      <td>2014/01/03 00:00</td>\n",
       "      <td>SO485914</td>\n",
       "      <td>1</td>\n",
       "      <td>885</td>\n",
       "      <td>602.346</td>\n",
       "      <td>2</td>\n",
       "    </tr>\n",
       "  </tbody>\n",
       "</table>\n",
       "</div>"
      ],
      "text/plain": [
       "   CustomerId         OrderDate SalesOrderNumber  TerritoryID  ProductID  \\\n",
       "0       11217  2014/01/03 00:00          SO76869            1        771   \n",
       "1       11217  2014/01/03 00:00         SO297124            1        996   \n",
       "2       11217  2014/01/03 00:00         SO485914            1        957   \n",
       "3       11217  2014/01/03 00:00          SO76869            1        771   \n",
       "4       11217  2014/01/03 00:00         SO485914            1        885   \n",
       "\n",
       "   UnitPrice  OrderQty  \n",
       "0   2039.994         1  \n",
       "1     72.894         3  \n",
       "2   1430.442         4  \n",
       "3   2039.994         1  \n",
       "4    602.346         2  "
      ]
     },
     "execution_count": 4,
     "metadata": {},
     "output_type": "execute_result"
    }
   ],
   "source": [
    "sales_value.head()"
   ]
  },
  {
   "cell_type": "markdown",
   "metadata": {},
   "source": [
    "# Exploratory Data Analysis"
   ]
  },
  {
   "cell_type": "code",
   "execution_count": 5,
   "metadata": {},
   "outputs": [
    {
     "name": "stdout",
     "output_type": "stream",
     "text": [
      "<class 'pandas.core.frame.DataFrame'>\n",
      "RangeIndex: 270817 entries, 0 to 270816\n",
      "Data columns (total 7 columns):\n",
      "CustomerId          270817 non-null int64\n",
      "OrderDate           270817 non-null object\n",
      "SalesOrderNumber    270817 non-null object\n",
      "TerritoryID         270817 non-null int64\n",
      "ProductID           270817 non-null int64\n",
      "UnitPrice           270817 non-null float64\n",
      "OrderQty            270817 non-null int64\n",
      "dtypes: float64(1), int64(4), object(2)\n",
      "memory usage: 14.5+ MB\n"
     ]
    }
   ],
   "source": [
    "sales_value.info()"
   ]
  },
  {
   "cell_type": "code",
   "execution_count": 6,
   "metadata": {},
   "outputs": [],
   "source": [
    "sales_value.OrderDate=pd.to_datetime(sales_value.OrderDate)"
   ]
  },
  {
   "cell_type": "code",
   "execution_count": 7,
   "metadata": {},
   "outputs": [
    {
     "data": {
      "text/html": [
       "<div>\n",
       "<style scoped>\n",
       "    .dataframe tbody tr th:only-of-type {\n",
       "        vertical-align: middle;\n",
       "    }\n",
       "\n",
       "    .dataframe tbody tr th {\n",
       "        vertical-align: top;\n",
       "    }\n",
       "\n",
       "    .dataframe thead th {\n",
       "        text-align: right;\n",
       "    }\n",
       "</style>\n",
       "<table border=\"1\" class=\"dataframe\">\n",
       "  <thead>\n",
       "    <tr style=\"text-align: right;\">\n",
       "      <th></th>\n",
       "      <th>CustomerId</th>\n",
       "      <th>OrderDate</th>\n",
       "      <th>SalesOrderNumber</th>\n",
       "      <th>TerritoryID</th>\n",
       "      <th>ProductID</th>\n",
       "      <th>UnitPrice</th>\n",
       "      <th>OrderQty</th>\n",
       "      <th>year</th>\n",
       "      <th>month</th>\n",
       "      <th>week_day</th>\n",
       "      <th>week_of_month</th>\n",
       "    </tr>\n",
       "  </thead>\n",
       "  <tbody>\n",
       "    <tr>\n",
       "      <td>0</td>\n",
       "      <td>11217</td>\n",
       "      <td>2014-01-03</td>\n",
       "      <td>SO76869</td>\n",
       "      <td>1</td>\n",
       "      <td>771</td>\n",
       "      <td>2039.994</td>\n",
       "      <td>1</td>\n",
       "      <td>2014</td>\n",
       "      <td>January</td>\n",
       "      <td>4</td>\n",
       "      <td>1.0</td>\n",
       "    </tr>\n",
       "    <tr>\n",
       "      <td>1</td>\n",
       "      <td>11217</td>\n",
       "      <td>2014-01-03</td>\n",
       "      <td>SO297124</td>\n",
       "      <td>1</td>\n",
       "      <td>996</td>\n",
       "      <td>72.894</td>\n",
       "      <td>3</td>\n",
       "      <td>2014</td>\n",
       "      <td>January</td>\n",
       "      <td>4</td>\n",
       "      <td>1.0</td>\n",
       "    </tr>\n",
       "    <tr>\n",
       "      <td>2</td>\n",
       "      <td>11217</td>\n",
       "      <td>2014-01-03</td>\n",
       "      <td>SO485914</td>\n",
       "      <td>1</td>\n",
       "      <td>957</td>\n",
       "      <td>1430.442</td>\n",
       "      <td>4</td>\n",
       "      <td>2014</td>\n",
       "      <td>January</td>\n",
       "      <td>4</td>\n",
       "      <td>1.0</td>\n",
       "    </tr>\n",
       "    <tr>\n",
       "      <td>3</td>\n",
       "      <td>11217</td>\n",
       "      <td>2014-01-03</td>\n",
       "      <td>SO76869</td>\n",
       "      <td>1</td>\n",
       "      <td>771</td>\n",
       "      <td>2039.994</td>\n",
       "      <td>1</td>\n",
       "      <td>2014</td>\n",
       "      <td>January</td>\n",
       "      <td>4</td>\n",
       "      <td>1.0</td>\n",
       "    </tr>\n",
       "    <tr>\n",
       "      <td>4</td>\n",
       "      <td>11217</td>\n",
       "      <td>2014-01-03</td>\n",
       "      <td>SO485914</td>\n",
       "      <td>1</td>\n",
       "      <td>885</td>\n",
       "      <td>602.346</td>\n",
       "      <td>2</td>\n",
       "      <td>2014</td>\n",
       "      <td>January</td>\n",
       "      <td>4</td>\n",
       "      <td>1.0</td>\n",
       "    </tr>\n",
       "    <tr>\n",
       "      <td>...</td>\n",
       "      <td>...</td>\n",
       "      <td>...</td>\n",
       "      <td>...</td>\n",
       "      <td>...</td>\n",
       "      <td>...</td>\n",
       "      <td>...</td>\n",
       "      <td>...</td>\n",
       "      <td>...</td>\n",
       "      <td>...</td>\n",
       "      <td>...</td>\n",
       "      <td>...</td>\n",
       "    </tr>\n",
       "    <tr>\n",
       "      <td>270812</td>\n",
       "      <td>29597</td>\n",
       "      <td>2015-12-25</td>\n",
       "      <td>SO409300</td>\n",
       "      <td>5</td>\n",
       "      <td>990</td>\n",
       "      <td>323.994</td>\n",
       "      <td>3</td>\n",
       "      <td>2015</td>\n",
       "      <td>December</td>\n",
       "      <td>4</td>\n",
       "      <td>4.0</td>\n",
       "    </tr>\n",
       "    <tr>\n",
       "      <td>270813</td>\n",
       "      <td>29880</td>\n",
       "      <td>2015-12-25</td>\n",
       "      <td>SO472280</td>\n",
       "      <td>5</td>\n",
       "      <td>711</td>\n",
       "      <td>34.990</td>\n",
       "      <td>1</td>\n",
       "      <td>2015</td>\n",
       "      <td>December</td>\n",
       "      <td>4</td>\n",
       "      <td>4.0</td>\n",
       "    </tr>\n",
       "    <tr>\n",
       "      <td>270814</td>\n",
       "      <td>30085</td>\n",
       "      <td>2015-12-25</td>\n",
       "      <td>SO472235</td>\n",
       "      <td>5</td>\n",
       "      <td>711</td>\n",
       "      <td>34.990</td>\n",
       "      <td>1</td>\n",
       "      <td>2015</td>\n",
       "      <td>December</td>\n",
       "      <td>4</td>\n",
       "      <td>4.0</td>\n",
       "    </tr>\n",
       "    <tr>\n",
       "      <td>270815</td>\n",
       "      <td>29561</td>\n",
       "      <td>2015-12-25</td>\n",
       "      <td>SO377943</td>\n",
       "      <td>5</td>\n",
       "      <td>759</td>\n",
       "      <td>469.794</td>\n",
       "      <td>8</td>\n",
       "      <td>2015</td>\n",
       "      <td>December</td>\n",
       "      <td>4</td>\n",
       "      <td>4.0</td>\n",
       "    </tr>\n",
       "    <tr>\n",
       "      <td>270816</td>\n",
       "      <td>29896</td>\n",
       "      <td>2015-12-25</td>\n",
       "      <td>SO472326</td>\n",
       "      <td>5</td>\n",
       "      <td>930</td>\n",
       "      <td>35.000</td>\n",
       "      <td>1</td>\n",
       "      <td>2015</td>\n",
       "      <td>December</td>\n",
       "      <td>4</td>\n",
       "      <td>4.0</td>\n",
       "    </tr>\n",
       "  </tbody>\n",
       "</table>\n",
       "<p>270817 rows × 11 columns</p>\n",
       "</div>"
      ],
      "text/plain": [
       "        CustomerId  OrderDate SalesOrderNumber  TerritoryID  ProductID  \\\n",
       "0            11217 2014-01-03          SO76869            1        771   \n",
       "1            11217 2014-01-03         SO297124            1        996   \n",
       "2            11217 2014-01-03         SO485914            1        957   \n",
       "3            11217 2014-01-03          SO76869            1        771   \n",
       "4            11217 2014-01-03         SO485914            1        885   \n",
       "...            ...        ...              ...          ...        ...   \n",
       "270812       29597 2015-12-25         SO409300            5        990   \n",
       "270813       29880 2015-12-25         SO472280            5        711   \n",
       "270814       30085 2015-12-25         SO472235            5        711   \n",
       "270815       29561 2015-12-25         SO377943            5        759   \n",
       "270816       29896 2015-12-25         SO472326            5        930   \n",
       "\n",
       "        UnitPrice  OrderQty  year     month  week_day  week_of_month  \n",
       "0        2039.994         1  2014   January         4            1.0  \n",
       "1          72.894         3  2014   January         4            1.0  \n",
       "2        1430.442         4  2014   January         4            1.0  \n",
       "3        2039.994         1  2014   January         4            1.0  \n",
       "4         602.346         2  2014   January         4            1.0  \n",
       "...           ...       ...   ...       ...       ...            ...  \n",
       "270812    323.994         3  2015  December         4            4.0  \n",
       "270813     34.990         1  2015  December         4            4.0  \n",
       "270814     34.990         1  2015  December         4            4.0  \n",
       "270815    469.794         8  2015  December         4            4.0  \n",
       "270816     35.000         1  2015  December         4            4.0  \n",
       "\n",
       "[270817 rows x 11 columns]"
      ]
     },
     "execution_count": 7,
     "metadata": {},
     "output_type": "execute_result"
    }
   ],
   "source": [
    "sales_value['year']=sales_value['OrderDate'].dt.year\n",
    "sales_value['month']=sales_value['OrderDate'].dt.month_name()\n",
    "sales_value['week_day']=sales_value['OrderDate'].dt.weekday\n",
    "sales_value['week_of_month']=sales_value['OrderDate'].dt.day.apply(lambda x:np.ceil(x/7))\n",
    "sales_value"
   ]
  },
  {
   "cell_type": "code",
   "execution_count": 8,
   "metadata": {},
   "outputs": [],
   "source": [
    "#creating a function to create season\n",
    "def getSeason(month):\n",
    "        if (month ==\"December\" or month ==\"January\" or month ==\"February\"):\n",
    "            return \"WINTER\"\n",
    "        elif(month =='March' or month == \"April\" or month ==\"May\"):\n",
    "            return \"SPRING\"\n",
    "        elif(month ==\"June\" or month ==\"July\" or month ==\"August\" ):\n",
    "            return \"SUMMER\"\n",
    "        else:\n",
    "            return \"FALL\"\n",
    "        \n",
    "sales_value['Season']=sales_value['month'].apply(getSeason)"
   ]
  },
  {
   "cell_type": "code",
   "execution_count": 9,
   "metadata": {},
   "outputs": [],
   "source": [
    "sales_value['is_holiday']=sales_value['OrderDate'].apply(lambda x:1 if str(x).split()[0] in holidays.US(years=[2011,2012,2013,2014]) else 0)"
   ]
  },
  {
   "cell_type": "code",
   "execution_count": 10,
   "metadata": {},
   "outputs": [
    {
     "data": {
      "text/html": [
       "<div>\n",
       "<style scoped>\n",
       "    .dataframe tbody tr th:only-of-type {\n",
       "        vertical-align: middle;\n",
       "    }\n",
       "\n",
       "    .dataframe tbody tr th {\n",
       "        vertical-align: top;\n",
       "    }\n",
       "\n",
       "    .dataframe thead th {\n",
       "        text-align: right;\n",
       "    }\n",
       "</style>\n",
       "<table border=\"1\" class=\"dataframe\">\n",
       "  <thead>\n",
       "    <tr style=\"text-align: right;\">\n",
       "      <th></th>\n",
       "      <th>CustomerId</th>\n",
       "      <th>OrderDate</th>\n",
       "      <th>SalesOrderNumber</th>\n",
       "      <th>TerritoryID</th>\n",
       "      <th>ProductID</th>\n",
       "      <th>UnitPrice</th>\n",
       "      <th>OrderQty</th>\n",
       "      <th>year</th>\n",
       "      <th>month</th>\n",
       "      <th>week_day</th>\n",
       "      <th>week_of_month</th>\n",
       "      <th>Season</th>\n",
       "      <th>is_holiday</th>\n",
       "    </tr>\n",
       "  </thead>\n",
       "  <tbody>\n",
       "    <tr>\n",
       "      <td>0</td>\n",
       "      <td>11217</td>\n",
       "      <td>2014-01-03</td>\n",
       "      <td>SO76869</td>\n",
       "      <td>1</td>\n",
       "      <td>771</td>\n",
       "      <td>2039.994</td>\n",
       "      <td>1</td>\n",
       "      <td>2014</td>\n",
       "      <td>January</td>\n",
       "      <td>4</td>\n",
       "      <td>1.0</td>\n",
       "      <td>WINTER</td>\n",
       "      <td>0</td>\n",
       "    </tr>\n",
       "    <tr>\n",
       "      <td>1</td>\n",
       "      <td>11217</td>\n",
       "      <td>2014-01-03</td>\n",
       "      <td>SO297124</td>\n",
       "      <td>1</td>\n",
       "      <td>996</td>\n",
       "      <td>72.894</td>\n",
       "      <td>3</td>\n",
       "      <td>2014</td>\n",
       "      <td>January</td>\n",
       "      <td>4</td>\n",
       "      <td>1.0</td>\n",
       "      <td>WINTER</td>\n",
       "      <td>0</td>\n",
       "    </tr>\n",
       "    <tr>\n",
       "      <td>2</td>\n",
       "      <td>11217</td>\n",
       "      <td>2014-01-03</td>\n",
       "      <td>SO485914</td>\n",
       "      <td>1</td>\n",
       "      <td>957</td>\n",
       "      <td>1430.442</td>\n",
       "      <td>4</td>\n",
       "      <td>2014</td>\n",
       "      <td>January</td>\n",
       "      <td>4</td>\n",
       "      <td>1.0</td>\n",
       "      <td>WINTER</td>\n",
       "      <td>0</td>\n",
       "    </tr>\n",
       "    <tr>\n",
       "      <td>3</td>\n",
       "      <td>11217</td>\n",
       "      <td>2014-01-03</td>\n",
       "      <td>SO76869</td>\n",
       "      <td>1</td>\n",
       "      <td>771</td>\n",
       "      <td>2039.994</td>\n",
       "      <td>1</td>\n",
       "      <td>2014</td>\n",
       "      <td>January</td>\n",
       "      <td>4</td>\n",
       "      <td>1.0</td>\n",
       "      <td>WINTER</td>\n",
       "      <td>0</td>\n",
       "    </tr>\n",
       "    <tr>\n",
       "      <td>4</td>\n",
       "      <td>11217</td>\n",
       "      <td>2014-01-03</td>\n",
       "      <td>SO485914</td>\n",
       "      <td>1</td>\n",
       "      <td>885</td>\n",
       "      <td>602.346</td>\n",
       "      <td>2</td>\n",
       "      <td>2014</td>\n",
       "      <td>January</td>\n",
       "      <td>4</td>\n",
       "      <td>1.0</td>\n",
       "      <td>WINTER</td>\n",
       "      <td>0</td>\n",
       "    </tr>\n",
       "    <tr>\n",
       "      <td>...</td>\n",
       "      <td>...</td>\n",
       "      <td>...</td>\n",
       "      <td>...</td>\n",
       "      <td>...</td>\n",
       "      <td>...</td>\n",
       "      <td>...</td>\n",
       "      <td>...</td>\n",
       "      <td>...</td>\n",
       "      <td>...</td>\n",
       "      <td>...</td>\n",
       "      <td>...</td>\n",
       "      <td>...</td>\n",
       "      <td>...</td>\n",
       "    </tr>\n",
       "    <tr>\n",
       "      <td>270812</td>\n",
       "      <td>29597</td>\n",
       "      <td>2015-12-25</td>\n",
       "      <td>SO409300</td>\n",
       "      <td>5</td>\n",
       "      <td>990</td>\n",
       "      <td>323.994</td>\n",
       "      <td>3</td>\n",
       "      <td>2015</td>\n",
       "      <td>December</td>\n",
       "      <td>4</td>\n",
       "      <td>4.0</td>\n",
       "      <td>WINTER</td>\n",
       "      <td>1</td>\n",
       "    </tr>\n",
       "    <tr>\n",
       "      <td>270813</td>\n",
       "      <td>29880</td>\n",
       "      <td>2015-12-25</td>\n",
       "      <td>SO472280</td>\n",
       "      <td>5</td>\n",
       "      <td>711</td>\n",
       "      <td>34.990</td>\n",
       "      <td>1</td>\n",
       "      <td>2015</td>\n",
       "      <td>December</td>\n",
       "      <td>4</td>\n",
       "      <td>4.0</td>\n",
       "      <td>WINTER</td>\n",
       "      <td>1</td>\n",
       "    </tr>\n",
       "    <tr>\n",
       "      <td>270814</td>\n",
       "      <td>30085</td>\n",
       "      <td>2015-12-25</td>\n",
       "      <td>SO472235</td>\n",
       "      <td>5</td>\n",
       "      <td>711</td>\n",
       "      <td>34.990</td>\n",
       "      <td>1</td>\n",
       "      <td>2015</td>\n",
       "      <td>December</td>\n",
       "      <td>4</td>\n",
       "      <td>4.0</td>\n",
       "      <td>WINTER</td>\n",
       "      <td>1</td>\n",
       "    </tr>\n",
       "    <tr>\n",
       "      <td>270815</td>\n",
       "      <td>29561</td>\n",
       "      <td>2015-12-25</td>\n",
       "      <td>SO377943</td>\n",
       "      <td>5</td>\n",
       "      <td>759</td>\n",
       "      <td>469.794</td>\n",
       "      <td>8</td>\n",
       "      <td>2015</td>\n",
       "      <td>December</td>\n",
       "      <td>4</td>\n",
       "      <td>4.0</td>\n",
       "      <td>WINTER</td>\n",
       "      <td>1</td>\n",
       "    </tr>\n",
       "    <tr>\n",
       "      <td>270816</td>\n",
       "      <td>29896</td>\n",
       "      <td>2015-12-25</td>\n",
       "      <td>SO472326</td>\n",
       "      <td>5</td>\n",
       "      <td>930</td>\n",
       "      <td>35.000</td>\n",
       "      <td>1</td>\n",
       "      <td>2015</td>\n",
       "      <td>December</td>\n",
       "      <td>4</td>\n",
       "      <td>4.0</td>\n",
       "      <td>WINTER</td>\n",
       "      <td>1</td>\n",
       "    </tr>\n",
       "  </tbody>\n",
       "</table>\n",
       "<p>270817 rows × 13 columns</p>\n",
       "</div>"
      ],
      "text/plain": [
       "        CustomerId  OrderDate SalesOrderNumber  TerritoryID  ProductID  \\\n",
       "0            11217 2014-01-03          SO76869            1        771   \n",
       "1            11217 2014-01-03         SO297124            1        996   \n",
       "2            11217 2014-01-03         SO485914            1        957   \n",
       "3            11217 2014-01-03          SO76869            1        771   \n",
       "4            11217 2014-01-03         SO485914            1        885   \n",
       "...            ...        ...              ...          ...        ...   \n",
       "270812       29597 2015-12-25         SO409300            5        990   \n",
       "270813       29880 2015-12-25         SO472280            5        711   \n",
       "270814       30085 2015-12-25         SO472235            5        711   \n",
       "270815       29561 2015-12-25         SO377943            5        759   \n",
       "270816       29896 2015-12-25         SO472326            5        930   \n",
       "\n",
       "        UnitPrice  OrderQty  year     month  week_day  week_of_month  Season  \\\n",
       "0        2039.994         1  2014   January         4            1.0  WINTER   \n",
       "1          72.894         3  2014   January         4            1.0  WINTER   \n",
       "2        1430.442         4  2014   January         4            1.0  WINTER   \n",
       "3        2039.994         1  2014   January         4            1.0  WINTER   \n",
       "4         602.346         2  2014   January         4            1.0  WINTER   \n",
       "...           ...       ...   ...       ...       ...            ...     ...   \n",
       "270812    323.994         3  2015  December         4            4.0  WINTER   \n",
       "270813     34.990         1  2015  December         4            4.0  WINTER   \n",
       "270814     34.990         1  2015  December         4            4.0  WINTER   \n",
       "270815    469.794         8  2015  December         4            4.0  WINTER   \n",
       "270816     35.000         1  2015  December         4            4.0  WINTER   \n",
       "\n",
       "        is_holiday  \n",
       "0                0  \n",
       "1                0  \n",
       "2                0  \n",
       "3                0  \n",
       "4                0  \n",
       "...            ...  \n",
       "270812           1  \n",
       "270813           1  \n",
       "270814           1  \n",
       "270815           1  \n",
       "270816           1  \n",
       "\n",
       "[270817 rows x 13 columns]"
      ]
     },
     "execution_count": 10,
     "metadata": {},
     "output_type": "execute_result"
    }
   ],
   "source": [
    "sales_value"
   ]
  },
  {
   "cell_type": "code",
   "execution_count": 11,
   "metadata": {},
   "outputs": [
    {
     "data": {
      "text/plain": [
       "870    9210\n",
       "712    6980\n",
       "873    6568\n",
       "711    6412\n",
       "707    6301\n",
       "       ... \n",
       "898      24\n",
       "943      21\n",
       "911      20\n",
       "942      15\n",
       "897       2\n",
       "Name: ProductID, Length: 266, dtype: int64"
      ]
     },
     "execution_count": 11,
     "metadata": {},
     "output_type": "execute_result"
    }
   ],
   "source": [
    "sales_value['ProductID'].value_counts().sort_values(ascending=False)"
   ]
  },
  {
   "cell_type": "markdown",
   "metadata": {},
   "source": [
    "A large number of products has been ordered a large number of times,ProductID 870 is ordered maximum number of times i.e. 9210\n",
    "whereas ProductID 897 is ordered minimum number of times  i.e 2 \n",
    "\n",
    "Thus all the products has been ordered more than once."
   ]
  },
  {
   "cell_type": "code",
   "execution_count": 12,
   "metadata": {},
   "outputs": [
    {
     "data": {
      "text/plain": [
       "4    133347\n",
       "1     94711\n",
       "5     15939\n",
       "3     13933\n",
       "2     12887\n",
       "Name: TerritoryID, dtype: int64"
      ]
     },
     "execution_count": 12,
     "metadata": {},
     "output_type": "execute_result"
    }
   ],
   "source": [
    "sales_value['TerritoryID'].value_counts()"
   ]
  },
  {
   "cell_type": "markdown",
   "metadata": {},
   "source": [
    "Maximum  number of orders are from TerritoryID 4 and 1 whereas least number of orders are from TerritoryId 2"
   ]
  },
  {
   "cell_type": "code",
   "execution_count": 13,
   "metadata": {},
   "outputs": [
    {
     "data": {
      "text/plain": [
       "SO51721     72\n",
       "SO47355     68\n",
       "SO57046     67\n",
       "SO47395     66\n",
       "SO51090     66\n",
       "            ..\n",
       "SO337040     1\n",
       "SO270377     1\n",
       "SO400389     1\n",
       "SO299137     1\n",
       "SO121583     1\n",
       "Name: SalesOrderNumber, Length: 105555, dtype: int64"
      ]
     },
     "execution_count": 13,
     "metadata": {},
     "output_type": "execute_result"
    }
   ],
   "source": [
    "sales_value['SalesOrderNumber'].value_counts()"
   ]
  },
  {
   "cell_type": "markdown",
   "metadata": {},
   "source": [
    "Some Customers are ordering a single product in large amount. The highest order by a customer for a single product is 72 ,whereas the lowest order is 1"
   ]
  },
  {
   "cell_type": "code",
   "execution_count": 14,
   "metadata": {},
   "outputs": [
    {
     "data": {
      "text/plain": [
       "29966    627\n",
       "30117    606\n",
       "29744    599\n",
       "29716    592\n",
       "29992    590\n",
       "        ... \n",
       "20374     26\n",
       "23239     26\n",
       "23808     26\n",
       "17477     26\n",
       "16905     26\n",
       "Name: CustomerId, Length: 4957, dtype: int64"
      ]
     },
     "execution_count": 14,
     "metadata": {},
     "output_type": "execute_result"
    }
   ],
   "source": [
    "sales_value['CustomerId'].value_counts()"
   ]
  },
  {
   "cell_type": "markdown",
   "metadata": {},
   "source": [
    "A large number of CustomerId is repeated that means the same customer is ordering different products"
   ]
  },
  {
   "cell_type": "code",
   "execution_count": 15,
   "metadata": {},
   "outputs": [
    {
     "data": {
      "text/plain": [
       "TerritoryID\n",
       "1    226792\n",
       "2     35617\n",
       "3     37219\n",
       "4    318001\n",
       "5     41722\n",
       "Name: OrderQty, dtype: int64"
      ]
     },
     "execution_count": 15,
     "metadata": {},
     "output_type": "execute_result"
    }
   ],
   "source": [
    "sales_value.groupby('TerritoryID').sum()['OrderQty']"
   ]
  },
  {
   "cell_type": "markdown",
   "metadata": {},
   "source": [
    "Thus we can see that a large number of Product are ordered from Territory 4 and 1 ,whereas Territory 2 has the least number of orders"
   ]
  },
  {
   "cell_type": "markdown",
   "metadata": {},
   "source": [
    "**Grouping is done based on date and calculating the total number of orders on the particular date**"
   ]
  },
  {
   "cell_type": "code",
   "execution_count": 16,
   "metadata": {},
   "outputs": [
    {
     "data": {
      "text/plain": [
       "OrderDate\n",
       "2014-01-01      76\n",
       "2014-01-03     402\n",
       "2014-01-04      56\n",
       "2014-01-07     153\n",
       "2014-01-08     253\n",
       "              ... \n",
       "2015-12-28    1424\n",
       "2015-12-29    1878\n",
       "2015-12-30    1743\n",
       "2015-12-31    1287\n",
       "2016-01-01    1747\n",
       "Name: OrderQty, Length: 677, dtype: int64"
      ]
     },
     "execution_count": 16,
     "metadata": {},
     "output_type": "execute_result"
    }
   ],
   "source": [
    "sales_value.groupby('OrderDate').sum()['OrderQty']"
   ]
  },
  {
   "cell_type": "markdown",
   "metadata": {},
   "source": [
    "**Calculating the total number of times a particular product has been ordered**"
   ]
  },
  {
   "cell_type": "code",
   "execution_count": 17,
   "metadata": {},
   "outputs": [
    {
     "data": {
      "text/plain": [
       "OrderDate   ProductID\n",
       "2014-01-01  707          2\n",
       "            708          1\n",
       "            711          1\n",
       "            713          1\n",
       "            725          6\n",
       "                        ..\n",
       "2016-01-01  994          2\n",
       "            996          3\n",
       "            997          4\n",
       "            998          4\n",
       "            999          1\n",
       "Name: OrderQty, Length: 64840, dtype: int64"
      ]
     },
     "execution_count": 17,
     "metadata": {},
     "output_type": "execute_result"
    }
   ],
   "source": [
    "sales_value.groupby(['OrderDate','ProductID']).sum()['OrderQty']"
   ]
  },
  {
   "cell_type": "code",
   "execution_count": 18,
   "metadata": {},
   "outputs": [
    {
     "data": {
      "text/plain": [
       "ProductID\n",
       "707    13998\n",
       "708    14901\n",
       "709     2360\n",
       "710      165\n",
       "711    15354\n",
       "       ...  \n",
       "994      860\n",
       "996     1243\n",
       "997     1520\n",
       "998     3698\n",
       "999     3013\n",
       "Name: OrderQty, Length: 266, dtype: int64"
      ]
     },
     "execution_count": 18,
     "metadata": {},
     "output_type": "execute_result"
    }
   ],
   "source": [
    "sales_value.groupby('ProductID').sum()['OrderQty']"
   ]
  },
  {
   "cell_type": "markdown",
   "metadata": {},
   "source": [
    "The ProductId are just random numbers and they are not assigned with some sort of meaning or according to the demands of that product.However these ProductID are important feature to predict the demand,There is 266 unique ProductID and they can be treated as categorical variables ,but if we directly encode them it will create 265 unique features which will slow down  the ML alogrithm.The solution to this is that we will categorize ProductID based on their demand range and then encode it ."
   ]
  },
  {
   "cell_type": "code",
   "execution_count": 19,
   "metadata": {},
   "outputs": [
    {
     "data": {
      "text/html": [
       "<div>\n",
       "<style scoped>\n",
       "    .dataframe tbody tr th:only-of-type {\n",
       "        vertical-align: middle;\n",
       "    }\n",
       "\n",
       "    .dataframe tbody tr th {\n",
       "        vertical-align: top;\n",
       "    }\n",
       "\n",
       "    .dataframe thead th {\n",
       "        text-align: right;\n",
       "    }\n",
       "</style>\n",
       "<table border=\"1\" class=\"dataframe\">\n",
       "  <thead>\n",
       "    <tr style=\"text-align: right;\">\n",
       "      <th></th>\n",
       "      <th>ProductID</th>\n",
       "      <th>OrderQty</th>\n",
       "    </tr>\n",
       "  </thead>\n",
       "  <tbody>\n",
       "    <tr>\n",
       "      <td>0</td>\n",
       "      <td>707</td>\n",
       "      <td>13998</td>\n",
       "    </tr>\n",
       "    <tr>\n",
       "      <td>1</td>\n",
       "      <td>708</td>\n",
       "      <td>14901</td>\n",
       "    </tr>\n",
       "    <tr>\n",
       "      <td>2</td>\n",
       "      <td>709</td>\n",
       "      <td>2360</td>\n",
       "    </tr>\n",
       "    <tr>\n",
       "      <td>3</td>\n",
       "      <td>710</td>\n",
       "      <td>165</td>\n",
       "    </tr>\n",
       "    <tr>\n",
       "      <td>4</td>\n",
       "      <td>711</td>\n",
       "      <td>15354</td>\n",
       "    </tr>\n",
       "    <tr>\n",
       "      <td>...</td>\n",
       "      <td>...</td>\n",
       "      <td>...</td>\n",
       "    </tr>\n",
       "    <tr>\n",
       "      <td>261</td>\n",
       "      <td>994</td>\n",
       "      <td>860</td>\n",
       "    </tr>\n",
       "    <tr>\n",
       "      <td>262</td>\n",
       "      <td>996</td>\n",
       "      <td>1243</td>\n",
       "    </tr>\n",
       "    <tr>\n",
       "      <td>263</td>\n",
       "      <td>997</td>\n",
       "      <td>1520</td>\n",
       "    </tr>\n",
       "    <tr>\n",
       "      <td>264</td>\n",
       "      <td>998</td>\n",
       "      <td>3698</td>\n",
       "    </tr>\n",
       "    <tr>\n",
       "      <td>265</td>\n",
       "      <td>999</td>\n",
       "      <td>3013</td>\n",
       "    </tr>\n",
       "  </tbody>\n",
       "</table>\n",
       "<p>266 rows × 2 columns</p>\n",
       "</div>"
      ],
      "text/plain": [
       "     ProductID  OrderQty\n",
       "0          707     13998\n",
       "1          708     14901\n",
       "2          709      2360\n",
       "3          710       165\n",
       "4          711     15354\n",
       "..         ...       ...\n",
       "261        994       860\n",
       "262        996      1243\n",
       "263        997      1520\n",
       "264        998      3698\n",
       "265        999      3013\n",
       "\n",
       "[266 rows x 2 columns]"
      ]
     },
     "execution_count": 19,
     "metadata": {},
     "output_type": "execute_result"
    }
   ],
   "source": [
    "'''Performing groupby based on 'ProductID' and doing aggregrate sum of the feature 'OrderQty' and creating a dataframe of \n",
    "it.The following dataframe consists of two features ProductID ,OrderQty .OrderQty holds the total numeric value of the \n",
    "ProductID'''\n",
    "Z=pd.DataFrame(sales_value.groupby('ProductID').sum()['OrderQty'])\n",
    "Z.reset_index(inplace=True)\n",
    "Z"
   ]
  },
  {
   "cell_type": "code",
   "execution_count": 20,
   "metadata": {},
   "outputs": [],
   "source": [
    "#defining a function to categorize the product based on the total number of times they have been ordered\n",
    "def product_cat(OrderQty):\n",
    "    #s=pd.DataFrame(sales_value.groupby('ProductID').sum())\n",
    "    if (OrderQty >=6000):\n",
    "        return 'Category_1'\n",
    "    elif (OrderQty>=4000 and OrderQty < 6000):\n",
    "        return 'Catgeory_2'\n",
    "    elif (OrderQty>=2500 and OrderQty < 4000):\n",
    "        return 'Category_3'\n",
    "    elif (OrderQty>=2000 and OrderQty < 2500):\n",
    "        return 'Category_4'\n",
    "    elif (OrderQty>=1500 and OrderQty < 2000):\n",
    "        return 'Category_5'\n",
    "    elif (OrderQty>=1100 and OrderQty < 1500):\n",
    "        return 'Category_6'\n",
    "    elif (OrderQty>=800 and OrderQty < 1100):\n",
    "        return 'Category_7'\n",
    "    elif (OrderQty>=350 and OrderQty < 800):\n",
    "        return 'Category_8'\n",
    "    elif (OrderQty>=150 and OrderQty < 350):\n",
    "        return 'Category_9'\n",
    "    else:\n",
    "        return 'Category_10'"
   ]
  },
  {
   "cell_type": "code",
   "execution_count": 21,
   "metadata": {},
   "outputs": [
    {
     "data": {
      "text/html": [
       "<div>\n",
       "<style scoped>\n",
       "    .dataframe tbody tr th:only-of-type {\n",
       "        vertical-align: middle;\n",
       "    }\n",
       "\n",
       "    .dataframe tbody tr th {\n",
       "        vertical-align: top;\n",
       "    }\n",
       "\n",
       "    .dataframe thead th {\n",
       "        text-align: right;\n",
       "    }\n",
       "</style>\n",
       "<table border=\"1\" class=\"dataframe\">\n",
       "  <thead>\n",
       "    <tr style=\"text-align: right;\">\n",
       "      <th></th>\n",
       "      <th>ProductID</th>\n",
       "      <th>OrderQty</th>\n",
       "      <th>Product_Cat</th>\n",
       "    </tr>\n",
       "  </thead>\n",
       "  <tbody>\n",
       "    <tr>\n",
       "      <td>0</td>\n",
       "      <td>707</td>\n",
       "      <td>13998</td>\n",
       "      <td>Category_1</td>\n",
       "    </tr>\n",
       "    <tr>\n",
       "      <td>1</td>\n",
       "      <td>708</td>\n",
       "      <td>14901</td>\n",
       "      <td>Category_1</td>\n",
       "    </tr>\n",
       "    <tr>\n",
       "      <td>2</td>\n",
       "      <td>709</td>\n",
       "      <td>2360</td>\n",
       "      <td>Category_4</td>\n",
       "    </tr>\n",
       "    <tr>\n",
       "      <td>3</td>\n",
       "      <td>710</td>\n",
       "      <td>165</td>\n",
       "      <td>Category_9</td>\n",
       "    </tr>\n",
       "    <tr>\n",
       "      <td>4</td>\n",
       "      <td>711</td>\n",
       "      <td>15354</td>\n",
       "      <td>Category_1</td>\n",
       "    </tr>\n",
       "    <tr>\n",
       "      <td>...</td>\n",
       "      <td>...</td>\n",
       "      <td>...</td>\n",
       "      <td>...</td>\n",
       "    </tr>\n",
       "    <tr>\n",
       "      <td>261</td>\n",
       "      <td>994</td>\n",
       "      <td>860</td>\n",
       "      <td>Category_7</td>\n",
       "    </tr>\n",
       "    <tr>\n",
       "      <td>262</td>\n",
       "      <td>996</td>\n",
       "      <td>1243</td>\n",
       "      <td>Category_6</td>\n",
       "    </tr>\n",
       "    <tr>\n",
       "      <td>263</td>\n",
       "      <td>997</td>\n",
       "      <td>1520</td>\n",
       "      <td>Category_5</td>\n",
       "    </tr>\n",
       "    <tr>\n",
       "      <td>264</td>\n",
       "      <td>998</td>\n",
       "      <td>3698</td>\n",
       "      <td>Category_3</td>\n",
       "    </tr>\n",
       "    <tr>\n",
       "      <td>265</td>\n",
       "      <td>999</td>\n",
       "      <td>3013</td>\n",
       "      <td>Category_3</td>\n",
       "    </tr>\n",
       "  </tbody>\n",
       "</table>\n",
       "<p>266 rows × 3 columns</p>\n",
       "</div>"
      ],
      "text/plain": [
       "     ProductID  OrderQty Product_Cat\n",
       "0          707     13998  Category_1\n",
       "1          708     14901  Category_1\n",
       "2          709      2360  Category_4\n",
       "3          710       165  Category_9\n",
       "4          711     15354  Category_1\n",
       "..         ...       ...         ...\n",
       "261        994       860  Category_7\n",
       "262        996      1243  Category_6\n",
       "263        997      1520  Category_5\n",
       "264        998      3698  Category_3\n",
       "265        999      3013  Category_3\n",
       "\n",
       "[266 rows x 3 columns]"
      ]
     },
     "execution_count": 21,
     "metadata": {},
     "output_type": "execute_result"
    }
   ],
   "source": [
    "'''Adding new feature Product_cat which will categorize the Product based on the number of times they have been ordered'''\n",
    "Z['Product_Cat']=Z['OrderQty'].apply(product_cat)\n",
    "Z"
   ]
  },
  {
   "cell_type": "code",
   "execution_count": 22,
   "metadata": {},
   "outputs": [
    {
     "data": {
      "text/plain": [
       "{707: 'Category_1',\n",
       " 708: 'Category_1',\n",
       " 709: 'Category_4',\n",
       " 710: 'Category_9',\n",
       " 711: 'Category_1',\n",
       " 712: 'Category_1',\n",
       " 713: 'Category_7',\n",
       " 714: 'Category_1',\n",
       " 715: 'Category_1',\n",
       " 716: 'Category_1',\n",
       " 717: 'Category_6',\n",
       " 718: 'Category_6',\n",
       " 719: 'Category_9',\n",
       " 722: 'Category_4',\n",
       " 723: 'Category_8',\n",
       " 725: 'Category_3',\n",
       " 726: 'Category_5',\n",
       " 727: 'Category_9',\n",
       " 729: 'Category_4',\n",
       " 730: 'Category_5',\n",
       " 732: 'Category_8',\n",
       " 733: 'Category_9',\n",
       " 736: 'Category_8',\n",
       " 738: 'Catgeory_2',\n",
       " 739: 'Category_7',\n",
       " 741: 'Category_8',\n",
       " 742: 'Category_5',\n",
       " 743: 'Category_3',\n",
       " 744: 'Category_10',\n",
       " 745: 'Category_9',\n",
       " 747: 'Category_5',\n",
       " 748: 'Category_3',\n",
       " 749: 'Category_6',\n",
       " 750: 'Category_7',\n",
       " 751: 'Category_7',\n",
       " 752: 'Category_7',\n",
       " 753: 'Category_6',\n",
       " 754: 'Category_6',\n",
       " 755: 'Category_8',\n",
       " 756: 'Category_8',\n",
       " 757: 'Category_8',\n",
       " 758: 'Category_6',\n",
       " 759: 'Category_5',\n",
       " 760: 'Catgeory_2',\n",
       " 761: 'Catgeory_2',\n",
       " 762: 'Catgeory_2',\n",
       " 763: 'Catgeory_2',\n",
       " 764: 'Category_3',\n",
       " 765: 'Catgeory_2',\n",
       " 766: 'Category_3',\n",
       " 767: 'Category_5',\n",
       " 768: 'Category_3',\n",
       " 769: 'Category_5',\n",
       " 770: 'Catgeory_2',\n",
       " 771: 'Category_6',\n",
       " 772: 'Category_6',\n",
       " 773: 'Category_6',\n",
       " 774: 'Category_7',\n",
       " 775: 'Category_6',\n",
       " 776: 'Category_6',\n",
       " 777: 'Category_5',\n",
       " 778: 'Category_6',\n",
       " 779: 'Category_1',\n",
       " 780: 'Catgeory_2',\n",
       " 781: 'Catgeory_2',\n",
       " 782: 'Category_1',\n",
       " 783: 'Category_1',\n",
       " 784: 'Catgeory_2',\n",
       " 785: 'Category_5',\n",
       " 786: 'Category_4',\n",
       " 787: 'Category_4',\n",
       " 788: 'Category_4',\n",
       " 789: 'Category_3',\n",
       " 790: 'Category_4',\n",
       " 791: 'Category_5',\n",
       " 792: 'Category_4',\n",
       " 793: 'Catgeory_2',\n",
       " 794: 'Category_3',\n",
       " 795: 'Category_3',\n",
       " 796: 'Category_4',\n",
       " 797: 'Catgeory_2',\n",
       " 798: 'Category_3',\n",
       " 799: 'Category_3',\n",
       " 800: 'Category_4',\n",
       " 801: 'Catgeory_2',\n",
       " 802: 'Category_8',\n",
       " 804: 'Category_6',\n",
       " 805: 'Category_9',\n",
       " 806: 'Category_5',\n",
       " 807: 'Category_8',\n",
       " 808: 'Category_4',\n",
       " 809: 'Category_3',\n",
       " 810: 'Category_6',\n",
       " 811: 'Category_8',\n",
       " 813: 'Category_5',\n",
       " 814: 'Category_6',\n",
       " 815: 'Category_5',\n",
       " 816: 'Category_7',\n",
       " 817: 'Category_8',\n",
       " 819: 'Category_5',\n",
       " 820: 'Category_5',\n",
       " 822: 'Category_4',\n",
       " 823: 'Category_7',\n",
       " 824: 'Category_3',\n",
       " 825: 'Category_4',\n",
       " 826: 'Category_3',\n",
       " 827: 'Category_9',\n",
       " 828: 'Category_8',\n",
       " 830: 'Category_9',\n",
       " 831: 'Category_5',\n",
       " 832: 'Category_3',\n",
       " 833: 'Category_8',\n",
       " 835: 'Category_3',\n",
       " 836: 'Category_3',\n",
       " 838: 'Category_6',\n",
       " 839: 'Category_9',\n",
       " 841: 'Category_6',\n",
       " 843: 'Category_3',\n",
       " 844: 'Category_3',\n",
       " 849: 'Category_3',\n",
       " 850: 'Category_6',\n",
       " 852: 'Catgeory_2',\n",
       " 853: 'Category_7',\n",
       " 854: 'Catgeory_2',\n",
       " 855: 'Category_4',\n",
       " 856: 'Catgeory_2',\n",
       " 857: 'Category_5',\n",
       " 858: 'Catgeory_2',\n",
       " 859: 'Category_1',\n",
       " 860: 'Category_3',\n",
       " 861: 'Category_5',\n",
       " 862: 'Catgeory_2',\n",
       " 863: 'Category_1',\n",
       " 864: 'Category_1',\n",
       " 865: 'Catgeory_2',\n",
       " 866: 'Category_8',\n",
       " 867: 'Category_1',\n",
       " 868: 'Category_4',\n",
       " 869: 'Category_1',\n",
       " 870: 'Category_1',\n",
       " 871: 'Category_3',\n",
       " 872: 'Category_3',\n",
       " 873: 'Category_1',\n",
       " 874: 'Category_3',\n",
       " 875: 'Catgeory_2',\n",
       " 876: 'Category_1',\n",
       " 877: 'Category_1',\n",
       " 878: 'Catgeory_2',\n",
       " 879: 'Category_8',\n",
       " 880: 'Category_1',\n",
       " 881: 'Catgeory_2',\n",
       " 882: 'Category_8',\n",
       " 883: 'Category_1',\n",
       " 884: 'Category_1',\n",
       " 885: 'Category_7',\n",
       " 886: 'Category_7',\n",
       " 887: 'Category_9',\n",
       " 888: 'Category_9',\n",
       " 889: 'Category_6',\n",
       " 890: 'Category_9',\n",
       " 891: 'Category_9',\n",
       " 892: 'Category_6',\n",
       " 893: 'Category_7',\n",
       " 894: 'Category_7',\n",
       " 895: 'Category_8',\n",
       " 896: 'Category_8',\n",
       " 897: 'Category_10',\n",
       " 898: 'Category_10',\n",
       " 899: 'Category_8',\n",
       " 900: 'Category_8',\n",
       " 902: 'Category_10',\n",
       " 903: 'Category_10',\n",
       " 904: 'Category_4',\n",
       " 905: 'Category_6',\n",
       " 906: 'Category_8',\n",
       " 907: 'Category_8',\n",
       " 908: 'Category_7',\n",
       " 909: 'Category_6',\n",
       " 910: 'Category_6',\n",
       " 911: 'Category_10',\n",
       " 913: 'Category_8',\n",
       " 914: 'Category_9',\n",
       " 915: 'Category_9',\n",
       " 916: 'Category_7',\n",
       " 917: 'Category_6',\n",
       " 918: 'Category_7',\n",
       " 919: 'Category_10',\n",
       " 920: 'Category_7',\n",
       " 921: 'Category_1',\n",
       " 922: 'Catgeory_2',\n",
       " 923: 'Category_3',\n",
       " 924: 'Category_7',\n",
       " 925: 'Category_6',\n",
       " 926: 'Category_7',\n",
       " 927: 'Category_10',\n",
       " 928: 'Category_5',\n",
       " 929: 'Category_4',\n",
       " 930: 'Category_3',\n",
       " 931: 'Category_5',\n",
       " 932: 'Category_5',\n",
       " 933: 'Category_5',\n",
       " 934: 'Category_5',\n",
       " 935: 'Category_7',\n",
       " 936: 'Category_7',\n",
       " 937: 'Category_5',\n",
       " 938: 'Category_4',\n",
       " 939: 'Category_5',\n",
       " 940: 'Category_5',\n",
       " 941: 'Category_9',\n",
       " 942: 'Category_10',\n",
       " 943: 'Category_10',\n",
       " 944: 'Category_7',\n",
       " 945: 'Category_4',\n",
       " 946: 'Category_10',\n",
       " 947: 'Category_8',\n",
       " 948: 'Category_5',\n",
       " 949: 'Category_7',\n",
       " 950: 'Category_9',\n",
       " 951: 'Category_6',\n",
       " 952: 'Category_5',\n",
       " 953: 'Category_5',\n",
       " 954: 'Category_4',\n",
       " 955: 'Category_6',\n",
       " 956: 'Category_7',\n",
       " 957: 'Category_4',\n",
       " 958: 'Category_5',\n",
       " 959: 'Category_6',\n",
       " 960: 'Category_8',\n",
       " 961: 'Category_5',\n",
       " 962: 'Category_6',\n",
       " 963: 'Category_7',\n",
       " 964: 'Category_8',\n",
       " 965: 'Category_4',\n",
       " 966: 'Category_4',\n",
       " 967: 'Category_6',\n",
       " 968: 'Category_7',\n",
       " 969: 'Category_4',\n",
       " 970: 'Category_6',\n",
       " 971: 'Category_8',\n",
       " 972: 'Category_4',\n",
       " 973: 'Category_3',\n",
       " 974: 'Category_4',\n",
       " 975: 'Category_6',\n",
       " 976: 'Category_3',\n",
       " 977: 'Category_5',\n",
       " 978: 'Category_8',\n",
       " 979: 'Category_5',\n",
       " 980: 'Category_7',\n",
       " 981: 'Category_6',\n",
       " 982: 'Category_7',\n",
       " 983: 'Category_8',\n",
       " 984: 'Category_7',\n",
       " 985: 'Category_7',\n",
       " 986: 'Category_7',\n",
       " 987: 'Category_6',\n",
       " 988: 'Category_6',\n",
       " 989: 'Category_8',\n",
       " 990: 'Category_7',\n",
       " 991: 'Category_7',\n",
       " 992: 'Category_7',\n",
       " 993: 'Category_8',\n",
       " 994: 'Category_7',\n",
       " 996: 'Category_6',\n",
       " 997: 'Category_5',\n",
       " 998: 'Category_3',\n",
       " 999: 'Category_3'}"
      ]
     },
     "execution_count": 22,
     "metadata": {},
     "output_type": "execute_result"
    }
   ],
   "source": [
    "'''Creating a dictionary from DataFrame Z which have the feature ProductID  as key and Product_Cat as value .This \n",
    "Dictionary will later be used in mapping the ProdcutID of the original dataframe to create Product_cat feature'''\n",
    "Dict_cat=dict(zip(Z.ProductID,Z.Product_Cat))\n",
    "Dict_cat"
   ]
  },
  {
   "cell_type": "code",
   "execution_count": 23,
   "metadata": {},
   "outputs": [
    {
     "data": {
      "text/html": [
       "<div>\n",
       "<style scoped>\n",
       "    .dataframe tbody tr th:only-of-type {\n",
       "        vertical-align: middle;\n",
       "    }\n",
       "\n",
       "    .dataframe tbody tr th {\n",
       "        vertical-align: top;\n",
       "    }\n",
       "\n",
       "    .dataframe thead th {\n",
       "        text-align: right;\n",
       "    }\n",
       "</style>\n",
       "<table border=\"1\" class=\"dataframe\">\n",
       "  <thead>\n",
       "    <tr style=\"text-align: right;\">\n",
       "      <th></th>\n",
       "      <th>CustomerId</th>\n",
       "      <th>OrderDate</th>\n",
       "      <th>SalesOrderNumber</th>\n",
       "      <th>TerritoryID</th>\n",
       "      <th>ProductID</th>\n",
       "      <th>UnitPrice</th>\n",
       "      <th>OrderQty</th>\n",
       "      <th>year</th>\n",
       "      <th>month</th>\n",
       "      <th>week_day</th>\n",
       "      <th>week_of_month</th>\n",
       "      <th>Season</th>\n",
       "      <th>is_holiday</th>\n",
       "      <th>Product_cat</th>\n",
       "    </tr>\n",
       "  </thead>\n",
       "  <tbody>\n",
       "    <tr>\n",
       "      <td>0</td>\n",
       "      <td>11217</td>\n",
       "      <td>2014-01-03</td>\n",
       "      <td>SO76869</td>\n",
       "      <td>1</td>\n",
       "      <td>771</td>\n",
       "      <td>2039.994</td>\n",
       "      <td>1</td>\n",
       "      <td>2014</td>\n",
       "      <td>January</td>\n",
       "      <td>4</td>\n",
       "      <td>1.0</td>\n",
       "      <td>WINTER</td>\n",
       "      <td>0</td>\n",
       "      <td>Category_6</td>\n",
       "    </tr>\n",
       "    <tr>\n",
       "      <td>1</td>\n",
       "      <td>11217</td>\n",
       "      <td>2014-01-03</td>\n",
       "      <td>SO297124</td>\n",
       "      <td>1</td>\n",
       "      <td>996</td>\n",
       "      <td>72.894</td>\n",
       "      <td>3</td>\n",
       "      <td>2014</td>\n",
       "      <td>January</td>\n",
       "      <td>4</td>\n",
       "      <td>1.0</td>\n",
       "      <td>WINTER</td>\n",
       "      <td>0</td>\n",
       "      <td>Category_6</td>\n",
       "    </tr>\n",
       "    <tr>\n",
       "      <td>2</td>\n",
       "      <td>11217</td>\n",
       "      <td>2014-01-03</td>\n",
       "      <td>SO485914</td>\n",
       "      <td>1</td>\n",
       "      <td>957</td>\n",
       "      <td>1430.442</td>\n",
       "      <td>4</td>\n",
       "      <td>2014</td>\n",
       "      <td>January</td>\n",
       "      <td>4</td>\n",
       "      <td>1.0</td>\n",
       "      <td>WINTER</td>\n",
       "      <td>0</td>\n",
       "      <td>Category_4</td>\n",
       "    </tr>\n",
       "    <tr>\n",
       "      <td>3</td>\n",
       "      <td>11217</td>\n",
       "      <td>2014-01-03</td>\n",
       "      <td>SO76869</td>\n",
       "      <td>1</td>\n",
       "      <td>771</td>\n",
       "      <td>2039.994</td>\n",
       "      <td>1</td>\n",
       "      <td>2014</td>\n",
       "      <td>January</td>\n",
       "      <td>4</td>\n",
       "      <td>1.0</td>\n",
       "      <td>WINTER</td>\n",
       "      <td>0</td>\n",
       "      <td>Category_6</td>\n",
       "    </tr>\n",
       "    <tr>\n",
       "      <td>4</td>\n",
       "      <td>11217</td>\n",
       "      <td>2014-01-03</td>\n",
       "      <td>SO485914</td>\n",
       "      <td>1</td>\n",
       "      <td>885</td>\n",
       "      <td>602.346</td>\n",
       "      <td>2</td>\n",
       "      <td>2014</td>\n",
       "      <td>January</td>\n",
       "      <td>4</td>\n",
       "      <td>1.0</td>\n",
       "      <td>WINTER</td>\n",
       "      <td>0</td>\n",
       "      <td>Category_7</td>\n",
       "    </tr>\n",
       "    <tr>\n",
       "      <td>...</td>\n",
       "      <td>...</td>\n",
       "      <td>...</td>\n",
       "      <td>...</td>\n",
       "      <td>...</td>\n",
       "      <td>...</td>\n",
       "      <td>...</td>\n",
       "      <td>...</td>\n",
       "      <td>...</td>\n",
       "      <td>...</td>\n",
       "      <td>...</td>\n",
       "      <td>...</td>\n",
       "      <td>...</td>\n",
       "      <td>...</td>\n",
       "      <td>...</td>\n",
       "    </tr>\n",
       "    <tr>\n",
       "      <td>270812</td>\n",
       "      <td>29597</td>\n",
       "      <td>2015-12-25</td>\n",
       "      <td>SO409300</td>\n",
       "      <td>5</td>\n",
       "      <td>990</td>\n",
       "      <td>323.994</td>\n",
       "      <td>3</td>\n",
       "      <td>2015</td>\n",
       "      <td>December</td>\n",
       "      <td>4</td>\n",
       "      <td>4.0</td>\n",
       "      <td>WINTER</td>\n",
       "      <td>1</td>\n",
       "      <td>Category_7</td>\n",
       "    </tr>\n",
       "    <tr>\n",
       "      <td>270813</td>\n",
       "      <td>29880</td>\n",
       "      <td>2015-12-25</td>\n",
       "      <td>SO472280</td>\n",
       "      <td>5</td>\n",
       "      <td>711</td>\n",
       "      <td>34.990</td>\n",
       "      <td>1</td>\n",
       "      <td>2015</td>\n",
       "      <td>December</td>\n",
       "      <td>4</td>\n",
       "      <td>4.0</td>\n",
       "      <td>WINTER</td>\n",
       "      <td>1</td>\n",
       "      <td>Category_1</td>\n",
       "    </tr>\n",
       "    <tr>\n",
       "      <td>270814</td>\n",
       "      <td>30085</td>\n",
       "      <td>2015-12-25</td>\n",
       "      <td>SO472235</td>\n",
       "      <td>5</td>\n",
       "      <td>711</td>\n",
       "      <td>34.990</td>\n",
       "      <td>1</td>\n",
       "      <td>2015</td>\n",
       "      <td>December</td>\n",
       "      <td>4</td>\n",
       "      <td>4.0</td>\n",
       "      <td>WINTER</td>\n",
       "      <td>1</td>\n",
       "      <td>Category_1</td>\n",
       "    </tr>\n",
       "    <tr>\n",
       "      <td>270815</td>\n",
       "      <td>29561</td>\n",
       "      <td>2015-12-25</td>\n",
       "      <td>SO377943</td>\n",
       "      <td>5</td>\n",
       "      <td>759</td>\n",
       "      <td>469.794</td>\n",
       "      <td>8</td>\n",
       "      <td>2015</td>\n",
       "      <td>December</td>\n",
       "      <td>4</td>\n",
       "      <td>4.0</td>\n",
       "      <td>WINTER</td>\n",
       "      <td>1</td>\n",
       "      <td>Category_5</td>\n",
       "    </tr>\n",
       "    <tr>\n",
       "      <td>270816</td>\n",
       "      <td>29896</td>\n",
       "      <td>2015-12-25</td>\n",
       "      <td>SO472326</td>\n",
       "      <td>5</td>\n",
       "      <td>930</td>\n",
       "      <td>35.000</td>\n",
       "      <td>1</td>\n",
       "      <td>2015</td>\n",
       "      <td>December</td>\n",
       "      <td>4</td>\n",
       "      <td>4.0</td>\n",
       "      <td>WINTER</td>\n",
       "      <td>1</td>\n",
       "      <td>Category_3</td>\n",
       "    </tr>\n",
       "  </tbody>\n",
       "</table>\n",
       "<p>270817 rows × 14 columns</p>\n",
       "</div>"
      ],
      "text/plain": [
       "        CustomerId  OrderDate SalesOrderNumber  TerritoryID  ProductID  \\\n",
       "0            11217 2014-01-03          SO76869            1        771   \n",
       "1            11217 2014-01-03         SO297124            1        996   \n",
       "2            11217 2014-01-03         SO485914            1        957   \n",
       "3            11217 2014-01-03          SO76869            1        771   \n",
       "4            11217 2014-01-03         SO485914            1        885   \n",
       "...            ...        ...              ...          ...        ...   \n",
       "270812       29597 2015-12-25         SO409300            5        990   \n",
       "270813       29880 2015-12-25         SO472280            5        711   \n",
       "270814       30085 2015-12-25         SO472235            5        711   \n",
       "270815       29561 2015-12-25         SO377943            5        759   \n",
       "270816       29896 2015-12-25         SO472326            5        930   \n",
       "\n",
       "        UnitPrice  OrderQty  year     month  week_day  week_of_month  Season  \\\n",
       "0        2039.994         1  2014   January         4            1.0  WINTER   \n",
       "1          72.894         3  2014   January         4            1.0  WINTER   \n",
       "2        1430.442         4  2014   January         4            1.0  WINTER   \n",
       "3        2039.994         1  2014   January         4            1.0  WINTER   \n",
       "4         602.346         2  2014   January         4            1.0  WINTER   \n",
       "...           ...       ...   ...       ...       ...            ...     ...   \n",
       "270812    323.994         3  2015  December         4            4.0  WINTER   \n",
       "270813     34.990         1  2015  December         4            4.0  WINTER   \n",
       "270814     34.990         1  2015  December         4            4.0  WINTER   \n",
       "270815    469.794         8  2015  December         4            4.0  WINTER   \n",
       "270816     35.000         1  2015  December         4            4.0  WINTER   \n",
       "\n",
       "        is_holiday Product_cat  \n",
       "0                0  Category_6  \n",
       "1                0  Category_6  \n",
       "2                0  Category_4  \n",
       "3                0  Category_6  \n",
       "4                0  Category_7  \n",
       "...            ...         ...  \n",
       "270812           1  Category_7  \n",
       "270813           1  Category_1  \n",
       "270814           1  Category_1  \n",
       "270815           1  Category_5  \n",
       "270816           1  Category_3  \n",
       "\n",
       "[270817 rows x 14 columns]"
      ]
     },
     "execution_count": 23,
     "metadata": {},
     "output_type": "execute_result"
    }
   ],
   "source": [
    "#assigning the new features to the original dataframe\n",
    "sales_value['Product_cat']=sales_value['ProductID'].map(Dict_cat)\n",
    "sales_value"
   ]
  },
  {
   "cell_type": "code",
   "execution_count": 24,
   "metadata": {},
   "outputs": [
    {
     "data": {
      "text/html": [
       "<div>\n",
       "<style scoped>\n",
       "    .dataframe tbody tr th:only-of-type {\n",
       "        vertical-align: middle;\n",
       "    }\n",
       "\n",
       "    .dataframe tbody tr th {\n",
       "        vertical-align: top;\n",
       "    }\n",
       "\n",
       "    .dataframe thead th {\n",
       "        text-align: right;\n",
       "    }\n",
       "</style>\n",
       "<table border=\"1\" class=\"dataframe\">\n",
       "  <thead>\n",
       "    <tr style=\"text-align: right;\">\n",
       "      <th></th>\n",
       "      <th>Product_cat</th>\n",
       "    </tr>\n",
       "  </thead>\n",
       "  <tbody>\n",
       "    <tr>\n",
       "      <td>Category_1</td>\n",
       "      <td>83134</td>\n",
       "    </tr>\n",
       "    <tr>\n",
       "      <td>Category_3</td>\n",
       "      <td>43635</td>\n",
       "    </tr>\n",
       "    <tr>\n",
       "      <td>Catgeory_2</td>\n",
       "      <td>43246</td>\n",
       "    </tr>\n",
       "    <tr>\n",
       "      <td>Category_5</td>\n",
       "      <td>28775</td>\n",
       "    </tr>\n",
       "    <tr>\n",
       "      <td>Category_4</td>\n",
       "      <td>23651</td>\n",
       "    </tr>\n",
       "    <tr>\n",
       "      <td>Category_6</td>\n",
       "      <td>19950</td>\n",
       "    </tr>\n",
       "    <tr>\n",
       "      <td>Category_7</td>\n",
       "      <td>16442</td>\n",
       "    </tr>\n",
       "    <tr>\n",
       "      <td>Category_8</td>\n",
       "      <td>9600</td>\n",
       "    </tr>\n",
       "    <tr>\n",
       "      <td>Category_9</td>\n",
       "      <td>2056</td>\n",
       "    </tr>\n",
       "    <tr>\n",
       "      <td>Category_10</td>\n",
       "      <td>328</td>\n",
       "    </tr>\n",
       "  </tbody>\n",
       "</table>\n",
       "</div>"
      ],
      "text/plain": [
       "             Product_cat\n",
       "Category_1         83134\n",
       "Category_3         43635\n",
       "Catgeory_2         43246\n",
       "Category_5         28775\n",
       "Category_4         23651\n",
       "Category_6         19950\n",
       "Category_7         16442\n",
       "Category_8          9600\n",
       "Category_9          2056\n",
       "Category_10          328"
      ]
     },
     "execution_count": 24,
     "metadata": {},
     "output_type": "execute_result"
    }
   ],
   "source": [
    "W=pd.DataFrame(sales_value['Product_cat'].value_counts())\n",
    "W"
   ]
  },
  {
   "cell_type": "code",
   "execution_count": 25,
   "metadata": {},
   "outputs": [
    {
     "data": {
      "text/plain": [
       "270817"
      ]
     },
     "execution_count": 25,
     "metadata": {},
     "output_type": "execute_result"
    }
   ],
   "source": [
    "W['Product_cat'].sum()"
   ]
  },
  {
   "cell_type": "code",
   "execution_count": 26,
   "metadata": {},
   "outputs": [
    {
     "data": {
      "text/html": [
       "<div>\n",
       "<style scoped>\n",
       "    .dataframe tbody tr th:only-of-type {\n",
       "        vertical-align: middle;\n",
       "    }\n",
       "\n",
       "    .dataframe tbody tr th {\n",
       "        vertical-align: top;\n",
       "    }\n",
       "\n",
       "    .dataframe thead th {\n",
       "        text-align: right;\n",
       "    }\n",
       "</style>\n",
       "<table border=\"1\" class=\"dataframe\">\n",
       "  <thead>\n",
       "    <tr style=\"text-align: right;\">\n",
       "      <th></th>\n",
       "      <th>Product_cat</th>\n",
       "      <th>percentage_product_cat</th>\n",
       "    </tr>\n",
       "  </thead>\n",
       "  <tbody>\n",
       "    <tr>\n",
       "      <td>Category_1</td>\n",
       "      <td>83134</td>\n",
       "      <td>0.306975</td>\n",
       "    </tr>\n",
       "    <tr>\n",
       "      <td>Category_3</td>\n",
       "      <td>43635</td>\n",
       "      <td>0.161124</td>\n",
       "    </tr>\n",
       "    <tr>\n",
       "      <td>Catgeory_2</td>\n",
       "      <td>43246</td>\n",
       "      <td>0.159687</td>\n",
       "    </tr>\n",
       "    <tr>\n",
       "      <td>Category_5</td>\n",
       "      <td>28775</td>\n",
       "      <td>0.106253</td>\n",
       "    </tr>\n",
       "    <tr>\n",
       "      <td>Category_4</td>\n",
       "      <td>23651</td>\n",
       "      <td>0.087332</td>\n",
       "    </tr>\n",
       "    <tr>\n",
       "      <td>Category_6</td>\n",
       "      <td>19950</td>\n",
       "      <td>0.073666</td>\n",
       "    </tr>\n",
       "    <tr>\n",
       "      <td>Category_7</td>\n",
       "      <td>16442</td>\n",
       "      <td>0.060713</td>\n",
       "    </tr>\n",
       "    <tr>\n",
       "      <td>Category_8</td>\n",
       "      <td>9600</td>\n",
       "      <td>0.035448</td>\n",
       "    </tr>\n",
       "    <tr>\n",
       "      <td>Category_9</td>\n",
       "      <td>2056</td>\n",
       "      <td>0.007592</td>\n",
       "    </tr>\n",
       "    <tr>\n",
       "      <td>Category_10</td>\n",
       "      <td>328</td>\n",
       "      <td>0.001211</td>\n",
       "    </tr>\n",
       "  </tbody>\n",
       "</table>\n",
       "</div>"
      ],
      "text/plain": [
       "             Product_cat  percentage_product_cat\n",
       "Category_1         83134                0.306975\n",
       "Category_3         43635                0.161124\n",
       "Catgeory_2         43246                0.159687\n",
       "Category_5         28775                0.106253\n",
       "Category_4         23651                0.087332\n",
       "Category_6         19950                0.073666\n",
       "Category_7         16442                0.060713\n",
       "Category_8          9600                0.035448\n",
       "Category_9          2056                0.007592\n",
       "Category_10          328                0.001211"
      ]
     },
     "execution_count": 26,
     "metadata": {},
     "output_type": "execute_result"
    }
   ],
   "source": [
    "W['percentage_product_cat']=W['Product_cat']/W['Product_cat'].sum()\n",
    "W"
   ]
  },
  {
   "cell_type": "markdown",
   "metadata": {},
   "source": [
    "The above data shows that some of the Product_cat are ordered extremely less compared to other Product_cat,which is obvious .But the problem here is that it while splitting the data for train and test it could miss some of the Product_cat such as Category_9 ,Category_10.So its better to create another feature 'Product_sub_category' which we will later use in Sampling"
   ]
  },
  {
   "cell_type": "code",
   "execution_count": 27,
   "metadata": {},
   "outputs": [],
   "source": [
    "#defining a function to create the feature Product_sub_category\n",
    "def product_subcat(Product_cat):\n",
    "    if(Product_cat=='Category_10' or Product_cat=='Category_9' or Product_cat=='Category_8' or \n",
    "       Product_cat =='Category_7' or Product_cat=='Category_6'):\n",
    "        return 'Category_sub_1'\n",
    "    elif(Product_cat=='Category_5'or Product_cat=='Category_4'):\n",
    "        return 'Category_sub_2'\n",
    "    else:\n",
    "        return Product_cat"
   ]
  },
  {
   "cell_type": "code",
   "execution_count": 28,
   "metadata": {},
   "outputs": [
    {
     "data": {
      "text/html": [
       "<div>\n",
       "<style scoped>\n",
       "    .dataframe tbody tr th:only-of-type {\n",
       "        vertical-align: middle;\n",
       "    }\n",
       "\n",
       "    .dataframe tbody tr th {\n",
       "        vertical-align: top;\n",
       "    }\n",
       "\n",
       "    .dataframe thead th {\n",
       "        text-align: right;\n",
       "    }\n",
       "</style>\n",
       "<table border=\"1\" class=\"dataframe\">\n",
       "  <thead>\n",
       "    <tr style=\"text-align: right;\">\n",
       "      <th></th>\n",
       "      <th>CustomerId</th>\n",
       "      <th>OrderDate</th>\n",
       "      <th>SalesOrderNumber</th>\n",
       "      <th>TerritoryID</th>\n",
       "      <th>ProductID</th>\n",
       "      <th>UnitPrice</th>\n",
       "      <th>OrderQty</th>\n",
       "      <th>year</th>\n",
       "      <th>month</th>\n",
       "      <th>week_day</th>\n",
       "      <th>week_of_month</th>\n",
       "      <th>Season</th>\n",
       "      <th>is_holiday</th>\n",
       "      <th>Product_cat</th>\n",
       "      <th>Product_sub_category</th>\n",
       "    </tr>\n",
       "  </thead>\n",
       "  <tbody>\n",
       "    <tr>\n",
       "      <td>0</td>\n",
       "      <td>11217</td>\n",
       "      <td>2014-01-03</td>\n",
       "      <td>SO76869</td>\n",
       "      <td>1</td>\n",
       "      <td>771</td>\n",
       "      <td>2039.9940</td>\n",
       "      <td>1</td>\n",
       "      <td>2014</td>\n",
       "      <td>January</td>\n",
       "      <td>4</td>\n",
       "      <td>1.0</td>\n",
       "      <td>WINTER</td>\n",
       "      <td>0</td>\n",
       "      <td>Category_6</td>\n",
       "      <td>Category_sub_1</td>\n",
       "    </tr>\n",
       "    <tr>\n",
       "      <td>1</td>\n",
       "      <td>11217</td>\n",
       "      <td>2014-01-03</td>\n",
       "      <td>SO297124</td>\n",
       "      <td>1</td>\n",
       "      <td>996</td>\n",
       "      <td>72.8940</td>\n",
       "      <td>3</td>\n",
       "      <td>2014</td>\n",
       "      <td>January</td>\n",
       "      <td>4</td>\n",
       "      <td>1.0</td>\n",
       "      <td>WINTER</td>\n",
       "      <td>0</td>\n",
       "      <td>Category_6</td>\n",
       "      <td>Category_sub_1</td>\n",
       "    </tr>\n",
       "    <tr>\n",
       "      <td>2</td>\n",
       "      <td>11217</td>\n",
       "      <td>2014-01-03</td>\n",
       "      <td>SO485914</td>\n",
       "      <td>1</td>\n",
       "      <td>957</td>\n",
       "      <td>1430.4420</td>\n",
       "      <td>4</td>\n",
       "      <td>2014</td>\n",
       "      <td>January</td>\n",
       "      <td>4</td>\n",
       "      <td>1.0</td>\n",
       "      <td>WINTER</td>\n",
       "      <td>0</td>\n",
       "      <td>Category_4</td>\n",
       "      <td>Category_sub_2</td>\n",
       "    </tr>\n",
       "    <tr>\n",
       "      <td>3</td>\n",
       "      <td>11217</td>\n",
       "      <td>2014-01-03</td>\n",
       "      <td>SO76869</td>\n",
       "      <td>1</td>\n",
       "      <td>771</td>\n",
       "      <td>2039.9940</td>\n",
       "      <td>1</td>\n",
       "      <td>2014</td>\n",
       "      <td>January</td>\n",
       "      <td>4</td>\n",
       "      <td>1.0</td>\n",
       "      <td>WINTER</td>\n",
       "      <td>0</td>\n",
       "      <td>Category_6</td>\n",
       "      <td>Category_sub_1</td>\n",
       "    </tr>\n",
       "    <tr>\n",
       "      <td>4</td>\n",
       "      <td>11217</td>\n",
       "      <td>2014-01-03</td>\n",
       "      <td>SO485914</td>\n",
       "      <td>1</td>\n",
       "      <td>885</td>\n",
       "      <td>602.3460</td>\n",
       "      <td>2</td>\n",
       "      <td>2014</td>\n",
       "      <td>January</td>\n",
       "      <td>4</td>\n",
       "      <td>1.0</td>\n",
       "      <td>WINTER</td>\n",
       "      <td>0</td>\n",
       "      <td>Category_7</td>\n",
       "      <td>Category_sub_1</td>\n",
       "    </tr>\n",
       "    <tr>\n",
       "      <td>5</td>\n",
       "      <td>11217</td>\n",
       "      <td>2014-01-03</td>\n",
       "      <td>SO202729</td>\n",
       "      <td>1</td>\n",
       "      <td>761</td>\n",
       "      <td>469.7940</td>\n",
       "      <td>5</td>\n",
       "      <td>2014</td>\n",
       "      <td>January</td>\n",
       "      <td>4</td>\n",
       "      <td>1.0</td>\n",
       "      <td>WINTER</td>\n",
       "      <td>0</td>\n",
       "      <td>Catgeory_2</td>\n",
       "      <td>Catgeory_2</td>\n",
       "    </tr>\n",
       "    <tr>\n",
       "      <td>6</td>\n",
       "      <td>11217</td>\n",
       "      <td>2014-01-03</td>\n",
       "      <td>SO328589</td>\n",
       "      <td>1</td>\n",
       "      <td>877</td>\n",
       "      <td>7.9500</td>\n",
       "      <td>1</td>\n",
       "      <td>2014</td>\n",
       "      <td>January</td>\n",
       "      <td>4</td>\n",
       "      <td>1.0</td>\n",
       "      <td>WINTER</td>\n",
       "      <td>0</td>\n",
       "      <td>Category_1</td>\n",
       "      <td>Category_1</td>\n",
       "    </tr>\n",
       "    <tr>\n",
       "      <td>7</td>\n",
       "      <td>11217</td>\n",
       "      <td>2014-01-03</td>\n",
       "      <td>SO108334</td>\n",
       "      <td>1</td>\n",
       "      <td>752</td>\n",
       "      <td>3578.2700</td>\n",
       "      <td>1</td>\n",
       "      <td>2014</td>\n",
       "      <td>January</td>\n",
       "      <td>4</td>\n",
       "      <td>1.0</td>\n",
       "      <td>WINTER</td>\n",
       "      <td>0</td>\n",
       "      <td>Category_7</td>\n",
       "      <td>Category_sub_1</td>\n",
       "    </tr>\n",
       "    <tr>\n",
       "      <td>8</td>\n",
       "      <td>11217</td>\n",
       "      <td>2014-01-03</td>\n",
       "      <td>SO485914</td>\n",
       "      <td>1</td>\n",
       "      <td>954</td>\n",
       "      <td>1430.4420</td>\n",
       "      <td>4</td>\n",
       "      <td>2014</td>\n",
       "      <td>January</td>\n",
       "      <td>4</td>\n",
       "      <td>1.0</td>\n",
       "      <td>WINTER</td>\n",
       "      <td>0</td>\n",
       "      <td>Category_4</td>\n",
       "      <td>Category_sub_2</td>\n",
       "    </tr>\n",
       "    <tr>\n",
       "      <td>9</td>\n",
       "      <td>11217</td>\n",
       "      <td>2014-01-03</td>\n",
       "      <td>SO171264</td>\n",
       "      <td>1</td>\n",
       "      <td>858</td>\n",
       "      <td>14.2042</td>\n",
       "      <td>11</td>\n",
       "      <td>2014</td>\n",
       "      <td>January</td>\n",
       "      <td>4</td>\n",
       "      <td>1.0</td>\n",
       "      <td>WINTER</td>\n",
       "      <td>0</td>\n",
       "      <td>Catgeory_2</td>\n",
       "      <td>Catgeory_2</td>\n",
       "    </tr>\n",
       "  </tbody>\n",
       "</table>\n",
       "</div>"
      ],
      "text/plain": [
       "   CustomerId  OrderDate SalesOrderNumber  TerritoryID  ProductID  UnitPrice  \\\n",
       "0       11217 2014-01-03          SO76869            1        771  2039.9940   \n",
       "1       11217 2014-01-03         SO297124            1        996    72.8940   \n",
       "2       11217 2014-01-03         SO485914            1        957  1430.4420   \n",
       "3       11217 2014-01-03          SO76869            1        771  2039.9940   \n",
       "4       11217 2014-01-03         SO485914            1        885   602.3460   \n",
       "5       11217 2014-01-03         SO202729            1        761   469.7940   \n",
       "6       11217 2014-01-03         SO328589            1        877     7.9500   \n",
       "7       11217 2014-01-03         SO108334            1        752  3578.2700   \n",
       "8       11217 2014-01-03         SO485914            1        954  1430.4420   \n",
       "9       11217 2014-01-03         SO171264            1        858    14.2042   \n",
       "\n",
       "   OrderQty  year    month  week_day  week_of_month  Season  is_holiday  \\\n",
       "0         1  2014  January         4            1.0  WINTER           0   \n",
       "1         3  2014  January         4            1.0  WINTER           0   \n",
       "2         4  2014  January         4            1.0  WINTER           0   \n",
       "3         1  2014  January         4            1.0  WINTER           0   \n",
       "4         2  2014  January         4            1.0  WINTER           0   \n",
       "5         5  2014  January         4            1.0  WINTER           0   \n",
       "6         1  2014  January         4            1.0  WINTER           0   \n",
       "7         1  2014  January         4            1.0  WINTER           0   \n",
       "8         4  2014  January         4            1.0  WINTER           0   \n",
       "9        11  2014  January         4            1.0  WINTER           0   \n",
       "\n",
       "  Product_cat Product_sub_category  \n",
       "0  Category_6       Category_sub_1  \n",
       "1  Category_6       Category_sub_1  \n",
       "2  Category_4       Category_sub_2  \n",
       "3  Category_6       Category_sub_1  \n",
       "4  Category_7       Category_sub_1  \n",
       "5  Catgeory_2           Catgeory_2  \n",
       "6  Category_1           Category_1  \n",
       "7  Category_7       Category_sub_1  \n",
       "8  Category_4       Category_sub_2  \n",
       "9  Catgeory_2           Catgeory_2  "
      ]
     },
     "execution_count": 28,
     "metadata": {},
     "output_type": "execute_result"
    }
   ],
   "source": [
    "sales_value['Product_sub_category']=sales_value['Product_cat'].apply(product_subcat)\n",
    "sales_value.head(10)"
   ]
  },
  {
   "cell_type": "code",
   "execution_count": 29,
   "metadata": {},
   "outputs": [
    {
     "data": {
      "text/html": [
       "<div>\n",
       "<style scoped>\n",
       "    .dataframe tbody tr th:only-of-type {\n",
       "        vertical-align: middle;\n",
       "    }\n",
       "\n",
       "    .dataframe tbody tr th {\n",
       "        vertical-align: top;\n",
       "    }\n",
       "\n",
       "    .dataframe thead th {\n",
       "        text-align: right;\n",
       "    }\n",
       "</style>\n",
       "<table border=\"1\" class=\"dataframe\">\n",
       "  <thead>\n",
       "    <tr style=\"text-align: right;\">\n",
       "      <th></th>\n",
       "      <th>Product_sub_category</th>\n",
       "      <th>percent_count</th>\n",
       "    </tr>\n",
       "  </thead>\n",
       "  <tbody>\n",
       "    <tr>\n",
       "      <td>Category_1</td>\n",
       "      <td>83134</td>\n",
       "      <td>0.306975</td>\n",
       "    </tr>\n",
       "    <tr>\n",
       "      <td>Category_sub_2</td>\n",
       "      <td>52426</td>\n",
       "      <td>0.193585</td>\n",
       "    </tr>\n",
       "    <tr>\n",
       "      <td>Category_sub_1</td>\n",
       "      <td>48376</td>\n",
       "      <td>0.178630</td>\n",
       "    </tr>\n",
       "    <tr>\n",
       "      <td>Category_3</td>\n",
       "      <td>43635</td>\n",
       "      <td>0.161124</td>\n",
       "    </tr>\n",
       "    <tr>\n",
       "      <td>Catgeory_2</td>\n",
       "      <td>43246</td>\n",
       "      <td>0.159687</td>\n",
       "    </tr>\n",
       "  </tbody>\n",
       "</table>\n",
       "</div>"
      ],
      "text/plain": [
       "                Product_sub_category  percent_count\n",
       "Category_1                     83134       0.306975\n",
       "Category_sub_2                 52426       0.193585\n",
       "Category_sub_1                 48376       0.178630\n",
       "Category_3                     43635       0.161124\n",
       "Catgeory_2                     43246       0.159687"
      ]
     },
     "execution_count": 29,
     "metadata": {},
     "output_type": "execute_result"
    }
   ],
   "source": [
    "V =pd.DataFrame(data=sales_value['Product_sub_category'].value_counts())\n",
    "V['percent_count']=V['Product_sub_category']/len(sales_value)\n",
    "V"
   ]
  },
  {
   "cell_type": "markdown",
   "metadata": {},
   "source": [
    "Thus significant amount of all the categories are present"
   ]
  },
  {
   "cell_type": "markdown",
   "metadata": {},
   "source": [
    "**Calculating the total number of orders for different seasons**"
   ]
  },
  {
   "cell_type": "code",
   "execution_count": 30,
   "metadata": {},
   "outputs": [
    {
     "data": {
      "text/plain": [
       "Season\n",
       "FALL      218101\n",
       "SPRING     99491\n",
       "SUMMER    215097\n",
       "WINTER    126662\n",
       "Name: OrderQty, dtype: int64"
      ]
     },
     "execution_count": 30,
     "metadata": {},
     "output_type": "execute_result"
    }
   ],
   "source": [
    "sales_value.groupby(['Season']).sum()['OrderQty']"
   ]
  },
  {
   "cell_type": "markdown",
   "metadata": {},
   "source": [
    "The highest order for Products are in the FALL ,SUMMER seasons .Least number of products are sold in SPRING season"
   ]
  },
  {
   "cell_type": "markdown",
   "metadata": {},
   "source": [
    "**Creating a DataFrame to see the counts of the years**"
   ]
  },
  {
   "cell_type": "code",
   "execution_count": 31,
   "metadata": {},
   "outputs": [
    {
     "data": {
      "text/html": [
       "<div>\n",
       "<style scoped>\n",
       "    .dataframe tbody tr th:only-of-type {\n",
       "        vertical-align: middle;\n",
       "    }\n",
       "\n",
       "    .dataframe tbody tr th {\n",
       "        vertical-align: top;\n",
       "    }\n",
       "\n",
       "    .dataframe thead th {\n",
       "        text-align: right;\n",
       "    }\n",
       "</style>\n",
       "<table border=\"1\" class=\"dataframe\">\n",
       "  <thead>\n",
       "    <tr style=\"text-align: right;\">\n",
       "      <th></th>\n",
       "      <th>year</th>\n",
       "      <th>percent_count</th>\n",
       "    </tr>\n",
       "  </thead>\n",
       "  <tbody>\n",
       "    <tr>\n",
       "      <td>2014</td>\n",
       "      <td>73853</td>\n",
       "      <td>0.272704</td>\n",
       "    </tr>\n",
       "    <tr>\n",
       "      <td>2015</td>\n",
       "      <td>196092</td>\n",
       "      <td>0.724076</td>\n",
       "    </tr>\n",
       "    <tr>\n",
       "      <td>2016</td>\n",
       "      <td>872</td>\n",
       "      <td>0.003220</td>\n",
       "    </tr>\n",
       "  </tbody>\n",
       "</table>\n",
       "</div>"
      ],
      "text/plain": [
       "        year  percent_count\n",
       "2014   73853       0.272704\n",
       "2015  196092       0.724076\n",
       "2016     872       0.003220"
      ]
     },
     "execution_count": 31,
     "metadata": {},
     "output_type": "execute_result"
    }
   ],
   "source": [
    "y =pd.DataFrame(data=sales_value['year'].value_counts())\n",
    "y['percent_count']=y['year']/len(sales_value)\n",
    "y=y.sort_index()\n",
    "y"
   ]
  },
  {
   "cell_type": "markdown",
   "metadata": {},
   "source": [
    "Sales in the year 2016 is less than 1% and sales in 2014 is 27.23% whereas around 72.4% of total sales takes place in the year 2015.\n",
    "\n",
    "Since the sales is extremely less in 2016 and if we do normal sampling there is a chance we might miss some of the unique products that has been sold in 2016, So we need to do stratified sampling but before that I will create another feature  year_cat"
   ]
  },
  {
   "cell_type": "code",
   "execution_count": 32,
   "metadata": {},
   "outputs": [],
   "source": [
    "sales_value['year_cat']=sales_value['year'].apply(lambda x: 2014 if x!=2015 else 2015)"
   ]
  },
  {
   "cell_type": "code",
   "execution_count": 33,
   "metadata": {},
   "outputs": [
    {
     "data": {
      "text/html": [
       "<div>\n",
       "<style scoped>\n",
       "    .dataframe tbody tr th:only-of-type {\n",
       "        vertical-align: middle;\n",
       "    }\n",
       "\n",
       "    .dataframe tbody tr th {\n",
       "        vertical-align: top;\n",
       "    }\n",
       "\n",
       "    .dataframe thead th {\n",
       "        text-align: right;\n",
       "    }\n",
       "</style>\n",
       "<table border=\"1\" class=\"dataframe\">\n",
       "  <thead>\n",
       "    <tr style=\"text-align: right;\">\n",
       "      <th></th>\n",
       "      <th>CustomerId</th>\n",
       "      <th>OrderDate</th>\n",
       "      <th>SalesOrderNumber</th>\n",
       "      <th>TerritoryID</th>\n",
       "      <th>ProductID</th>\n",
       "      <th>UnitPrice</th>\n",
       "      <th>OrderQty</th>\n",
       "      <th>year</th>\n",
       "      <th>month</th>\n",
       "      <th>week_day</th>\n",
       "      <th>week_of_month</th>\n",
       "      <th>Season</th>\n",
       "      <th>is_holiday</th>\n",
       "      <th>Product_cat</th>\n",
       "      <th>Product_sub_category</th>\n",
       "      <th>year_cat</th>\n",
       "    </tr>\n",
       "  </thead>\n",
       "  <tbody>\n",
       "    <tr>\n",
       "      <td>0</td>\n",
       "      <td>11217</td>\n",
       "      <td>2014-01-03</td>\n",
       "      <td>SO76869</td>\n",
       "      <td>1</td>\n",
       "      <td>771</td>\n",
       "      <td>2039.994</td>\n",
       "      <td>1</td>\n",
       "      <td>2014</td>\n",
       "      <td>January</td>\n",
       "      <td>4</td>\n",
       "      <td>1.0</td>\n",
       "      <td>WINTER</td>\n",
       "      <td>0</td>\n",
       "      <td>Category_6</td>\n",
       "      <td>Category_sub_1</td>\n",
       "      <td>2014</td>\n",
       "    </tr>\n",
       "    <tr>\n",
       "      <td>1</td>\n",
       "      <td>11217</td>\n",
       "      <td>2014-01-03</td>\n",
       "      <td>SO297124</td>\n",
       "      <td>1</td>\n",
       "      <td>996</td>\n",
       "      <td>72.894</td>\n",
       "      <td>3</td>\n",
       "      <td>2014</td>\n",
       "      <td>January</td>\n",
       "      <td>4</td>\n",
       "      <td>1.0</td>\n",
       "      <td>WINTER</td>\n",
       "      <td>0</td>\n",
       "      <td>Category_6</td>\n",
       "      <td>Category_sub_1</td>\n",
       "      <td>2014</td>\n",
       "    </tr>\n",
       "    <tr>\n",
       "      <td>2</td>\n",
       "      <td>11217</td>\n",
       "      <td>2014-01-03</td>\n",
       "      <td>SO485914</td>\n",
       "      <td>1</td>\n",
       "      <td>957</td>\n",
       "      <td>1430.442</td>\n",
       "      <td>4</td>\n",
       "      <td>2014</td>\n",
       "      <td>January</td>\n",
       "      <td>4</td>\n",
       "      <td>1.0</td>\n",
       "      <td>WINTER</td>\n",
       "      <td>0</td>\n",
       "      <td>Category_4</td>\n",
       "      <td>Category_sub_2</td>\n",
       "      <td>2014</td>\n",
       "    </tr>\n",
       "    <tr>\n",
       "      <td>3</td>\n",
       "      <td>11217</td>\n",
       "      <td>2014-01-03</td>\n",
       "      <td>SO76869</td>\n",
       "      <td>1</td>\n",
       "      <td>771</td>\n",
       "      <td>2039.994</td>\n",
       "      <td>1</td>\n",
       "      <td>2014</td>\n",
       "      <td>January</td>\n",
       "      <td>4</td>\n",
       "      <td>1.0</td>\n",
       "      <td>WINTER</td>\n",
       "      <td>0</td>\n",
       "      <td>Category_6</td>\n",
       "      <td>Category_sub_1</td>\n",
       "      <td>2014</td>\n",
       "    </tr>\n",
       "    <tr>\n",
       "      <td>4</td>\n",
       "      <td>11217</td>\n",
       "      <td>2014-01-03</td>\n",
       "      <td>SO485914</td>\n",
       "      <td>1</td>\n",
       "      <td>885</td>\n",
       "      <td>602.346</td>\n",
       "      <td>2</td>\n",
       "      <td>2014</td>\n",
       "      <td>January</td>\n",
       "      <td>4</td>\n",
       "      <td>1.0</td>\n",
       "      <td>WINTER</td>\n",
       "      <td>0</td>\n",
       "      <td>Category_7</td>\n",
       "      <td>Category_sub_1</td>\n",
       "      <td>2014</td>\n",
       "    </tr>\n",
       "  </tbody>\n",
       "</table>\n",
       "</div>"
      ],
      "text/plain": [
       "   CustomerId  OrderDate SalesOrderNumber  TerritoryID  ProductID  UnitPrice  \\\n",
       "0       11217 2014-01-03          SO76869            1        771   2039.994   \n",
       "1       11217 2014-01-03         SO297124            1        996     72.894   \n",
       "2       11217 2014-01-03         SO485914            1        957   1430.442   \n",
       "3       11217 2014-01-03          SO76869            1        771   2039.994   \n",
       "4       11217 2014-01-03         SO485914            1        885    602.346   \n",
       "\n",
       "   OrderQty  year    month  week_day  week_of_month  Season  is_holiday  \\\n",
       "0         1  2014  January         4            1.0  WINTER           0   \n",
       "1         3  2014  January         4            1.0  WINTER           0   \n",
       "2         4  2014  January         4            1.0  WINTER           0   \n",
       "3         1  2014  January         4            1.0  WINTER           0   \n",
       "4         2  2014  January         4            1.0  WINTER           0   \n",
       "\n",
       "  Product_cat Product_sub_category  year_cat  \n",
       "0  Category_6       Category_sub_1      2014  \n",
       "1  Category_6       Category_sub_1      2014  \n",
       "2  Category_4       Category_sub_2      2014  \n",
       "3  Category_6       Category_sub_1      2014  \n",
       "4  Category_7       Category_sub_1      2014  "
      ]
     },
     "execution_count": 33,
     "metadata": {},
     "output_type": "execute_result"
    }
   ],
   "source": [
    "sales_value.head()"
   ]
  },
  {
   "cell_type": "code",
   "execution_count": 34,
   "metadata": {},
   "outputs": [
    {
     "data": {
      "text/html": [
       "<div>\n",
       "<style scoped>\n",
       "    .dataframe tbody tr th:only-of-type {\n",
       "        vertical-align: middle;\n",
       "    }\n",
       "\n",
       "    .dataframe tbody tr th {\n",
       "        vertical-align: top;\n",
       "    }\n",
       "\n",
       "    .dataframe thead th {\n",
       "        text-align: right;\n",
       "    }\n",
       "</style>\n",
       "<table border=\"1\" class=\"dataframe\">\n",
       "  <thead>\n",
       "    <tr style=\"text-align: right;\">\n",
       "      <th></th>\n",
       "      <th>year_cat</th>\n",
       "      <th>percent_count</th>\n",
       "    </tr>\n",
       "  </thead>\n",
       "  <tbody>\n",
       "    <tr>\n",
       "      <td>2014</td>\n",
       "      <td>74725</td>\n",
       "      <td>0.275924</td>\n",
       "    </tr>\n",
       "    <tr>\n",
       "      <td>2015</td>\n",
       "      <td>196092</td>\n",
       "      <td>0.724076</td>\n",
       "    </tr>\n",
       "  </tbody>\n",
       "</table>\n",
       "</div>"
      ],
      "text/plain": [
       "      year_cat  percent_count\n",
       "2014     74725       0.275924\n",
       "2015    196092       0.724076"
      ]
     },
     "execution_count": 34,
     "metadata": {},
     "output_type": "execute_result"
    }
   ],
   "source": [
    "y =pd.DataFrame(data=sales_value['year_cat'].value_counts())\n",
    "y['percent_count']=y['year_cat']/len(sales_value)\n",
    "y=y.sort_index()\n",
    "y"
   ]
  },
  {
   "cell_type": "code",
   "execution_count": 35,
   "metadata": {},
   "outputs": [
    {
     "data": {
      "text/plain": [
       "0    0.943608\n",
       "1    0.056392\n",
       "Name: is_holiday, dtype: float64"
      ]
     },
     "execution_count": 35,
     "metadata": {},
     "output_type": "execute_result"
    }
   ],
   "source": [
    "sales_value['is_holiday'].value_counts()/len(sales_value)"
   ]
  },
  {
   "cell_type": "markdown",
   "metadata": {},
   "source": [
    "**Sampling Process:**\n",
    "\n",
    "Sampling is done based on 'year_cat','Product_sub_category' and 'is_holiday' features.I am adding is_holiday feature because some unique product may be sold more than the other normal days and since the number of holidays is extremely less ,thus it should be used during sampling along with 'year_cat', 'Product_sub_category'."
   ]
  },
  {
   "cell_type": "code",
   "execution_count": 36,
   "metadata": {},
   "outputs": [],
   "source": [
    "#performing StratifiedShuffleSplit based on year_cat,Product_sub_category and is_holiday features\n",
    "from sklearn.model_selection import StratifiedShuffleSplit\n",
    "split=StratifiedShuffleSplit(n_splits=1,test_size=0.3,random_state=41)\n",
    "for train_index ,test_index in split.split(sales_value ,sales_value[['year_cat' ,'Product_sub_category','is_holiday']]):\n",
    "    Train_set=sales_value.loc[train_index]\n",
    "    Test_set=sales_value.loc[test_index]"
   ]
  },
  {
   "cell_type": "code",
   "execution_count": 37,
   "metadata": {},
   "outputs": [
    {
     "data": {
      "text/plain": [
       "2015    0.724085\n",
       "2014    0.275915\n",
       "Name: year_cat, dtype: float64"
      ]
     },
     "execution_count": 37,
     "metadata": {},
     "output_type": "execute_result"
    }
   ],
   "source": [
    "Test_set['year_cat'].value_counts()/len(Test_set)"
   ]
  },
  {
   "cell_type": "code",
   "execution_count": 38,
   "metadata": {},
   "outputs": [
    {
     "data": {
      "text/plain": [
       "2015    0.724072\n",
       "2014    0.275928\n",
       "Name: year_cat, dtype: float64"
      ]
     },
     "execution_count": 38,
     "metadata": {},
     "output_type": "execute_result"
    }
   ],
   "source": [
    "Train_set['year_cat'].value_counts()/len(Train_set)"
   ]
  },
  {
   "cell_type": "code",
   "execution_count": 39,
   "metadata": {},
   "outputs": [
    {
     "data": {
      "text/plain": [
       "Category_1        0.306967\n",
       "Category_sub_2    0.193590\n",
       "Category_sub_1    0.178630\n",
       "Category_3        0.161127\n",
       "Catgeory_2        0.159687\n",
       "Name: Product_sub_category, dtype: float64"
      ]
     },
     "execution_count": 39,
     "metadata": {},
     "output_type": "execute_result"
    }
   ],
   "source": [
    "Train_set['Product_sub_category'].value_counts()/len(Train_set)"
   ]
  },
  {
   "cell_type": "code",
   "execution_count": 40,
   "metadata": {},
   "outputs": [
    {
     "data": {
      "text/plain": [
       "Category_1        0.306994\n",
       "Category_sub_2    0.193573\n",
       "Category_sub_1    0.178630\n",
       "Category_3        0.161116\n",
       "Catgeory_2        0.159688\n",
       "Name: Product_sub_category, dtype: float64"
      ]
     },
     "execution_count": 40,
     "metadata": {},
     "output_type": "execute_result"
    }
   ],
   "source": [
    "Test_set['Product_sub_category'].value_counts()/len(Test_set)"
   ]
  },
  {
   "cell_type": "code",
   "execution_count": 41,
   "metadata": {},
   "outputs": [
    {
     "data": {
      "text/plain": [
       "0    0.94361\n",
       "1    0.05639\n",
       "Name: is_holiday, dtype: float64"
      ]
     },
     "execution_count": 41,
     "metadata": {},
     "output_type": "execute_result"
    }
   ],
   "source": [
    "Train_set['is_holiday'].value_counts()/len(Train_set)"
   ]
  },
  {
   "cell_type": "code",
   "execution_count": 42,
   "metadata": {},
   "outputs": [
    {
     "data": {
      "text/plain": [
       "0    0.943603\n",
       "1    0.056397\n",
       "Name: is_holiday, dtype: float64"
      ]
     },
     "execution_count": 42,
     "metadata": {},
     "output_type": "execute_result"
    }
   ],
   "source": [
    "Test_set['is_holiday'].value_counts()/len(Test_set)"
   ]
  },
  {
   "cell_type": "markdown",
   "metadata": {},
   "source": [
    "Thus it's found that the data set are divided in proper amount on both training and test set"
   ]
  },
  {
   "cell_type": "code",
   "execution_count": 43,
   "metadata": {},
   "outputs": [],
   "source": [
    "#Dropping the year_cat and Product_sub_ategory features from both the set as its of no use \n",
    "for set in (Train_set,Test_set):\n",
    "    set.drop(['year_cat','Product_sub_category'] ,axis=1,inplace=True)"
   ]
  },
  {
   "cell_type": "code",
   "execution_count": 44,
   "metadata": {},
   "outputs": [
    {
     "name": "stdout",
     "output_type": "stream",
     "text": [
      "<class 'pandas.core.frame.DataFrame'>\n",
      "Int64Index: 189571 entries, 135159 to 89896\n",
      "Data columns (total 14 columns):\n",
      "CustomerId          189571 non-null int64\n",
      "OrderDate           189571 non-null datetime64[ns]\n",
      "SalesOrderNumber    189571 non-null object\n",
      "TerritoryID         189571 non-null int64\n",
      "ProductID           189571 non-null int64\n",
      "UnitPrice           189571 non-null float64\n",
      "OrderQty            189571 non-null int64\n",
      "year                189571 non-null int64\n",
      "month               189571 non-null object\n",
      "week_day            189571 non-null int64\n",
      "week_of_month       189571 non-null float64\n",
      "Season              189571 non-null object\n",
      "is_holiday          189571 non-null int64\n",
      "Product_cat         189571 non-null object\n",
      "dtypes: datetime64[ns](1), float64(2), int64(7), object(4)\n",
      "memory usage: 21.7+ MB\n"
     ]
    }
   ],
   "source": [
    "Train_set.info()"
   ]
  },
  {
   "cell_type": "markdown",
   "metadata": {},
   "source": [
    "There is no missing values in the train set."
   ]
  },
  {
   "cell_type": "code",
   "execution_count": 46,
   "metadata": {},
   "outputs": [],
   "source": [
    "#preprocess the categorical input feature:\n",
    "X_train=Train_set.copy()"
   ]
  },
  {
   "cell_type": "code",
   "execution_count": 47,
   "metadata": {},
   "outputs": [],
   "source": [
    "X_target=X_train['OrderQty']"
   ]
  },
  {
   "cell_type": "code",
   "execution_count": 48,
   "metadata": {},
   "outputs": [
    {
     "data": {
      "text/html": [
       "<div>\n",
       "<style scoped>\n",
       "    .dataframe tbody tr th:only-of-type {\n",
       "        vertical-align: middle;\n",
       "    }\n",
       "\n",
       "    .dataframe tbody tr th {\n",
       "        vertical-align: top;\n",
       "    }\n",
       "\n",
       "    .dataframe thead th {\n",
       "        text-align: right;\n",
       "    }\n",
       "</style>\n",
       "<table border=\"1\" class=\"dataframe\">\n",
       "  <thead>\n",
       "    <tr style=\"text-align: right;\">\n",
       "      <th></th>\n",
       "      <th>CustomerId</th>\n",
       "      <th>OrderDate</th>\n",
       "      <th>SalesOrderNumber</th>\n",
       "      <th>TerritoryID</th>\n",
       "      <th>ProductID</th>\n",
       "      <th>UnitPrice</th>\n",
       "      <th>OrderQty</th>\n",
       "      <th>year</th>\n",
       "      <th>month</th>\n",
       "      <th>week_day</th>\n",
       "      <th>week_of_month</th>\n",
       "      <th>Season</th>\n",
       "      <th>is_holiday</th>\n",
       "      <th>Product_cat</th>\n",
       "    </tr>\n",
       "  </thead>\n",
       "  <tbody>\n",
       "    <tr>\n",
       "      <td>135159</td>\n",
       "      <td>12942</td>\n",
       "      <td>2014-06-05</td>\n",
       "      <td>SO487290</td>\n",
       "      <td>4</td>\n",
       "      <td>712</td>\n",
       "      <td>5.3940</td>\n",
       "      <td>7</td>\n",
       "      <td>2014</td>\n",
       "      <td>June</td>\n",
       "      <td>3</td>\n",
       "      <td>1.0</td>\n",
       "      <td>SUMMER</td>\n",
       "      <td>0</td>\n",
       "      <td>Category_1</td>\n",
       "    </tr>\n",
       "    <tr>\n",
       "      <td>264889</td>\n",
       "      <td>29707</td>\n",
       "      <td>2015-04-24</td>\n",
       "      <td>SO50703</td>\n",
       "      <td>5</td>\n",
       "      <td>715</td>\n",
       "      <td>28.8404</td>\n",
       "      <td>3</td>\n",
       "      <td>2015</td>\n",
       "      <td>April</td>\n",
       "      <td>4</td>\n",
       "      <td>4.0</td>\n",
       "      <td>SPRING</td>\n",
       "      <td>0</td>\n",
       "      <td>Category_1</td>\n",
       "    </tr>\n",
       "    <tr>\n",
       "      <td>38938</td>\n",
       "      <td>28003</td>\n",
       "      <td>2015-07-17</td>\n",
       "      <td>SO493532</td>\n",
       "      <td>1</td>\n",
       "      <td>937</td>\n",
       "      <td>48.5940</td>\n",
       "      <td>1</td>\n",
       "      <td>2015</td>\n",
       "      <td>July</td>\n",
       "      <td>4</td>\n",
       "      <td>3.0</td>\n",
       "      <td>SUMMER</td>\n",
       "      <td>0</td>\n",
       "      <td>Category_5</td>\n",
       "    </tr>\n",
       "    <tr>\n",
       "      <td>150384</td>\n",
       "      <td>26646</td>\n",
       "      <td>2014-11-11</td>\n",
       "      <td>SO237399</td>\n",
       "      <td>4</td>\n",
       "      <td>748</td>\n",
       "      <td>818.7000</td>\n",
       "      <td>1</td>\n",
       "      <td>2014</td>\n",
       "      <td>November</td>\n",
       "      <td>1</td>\n",
       "      <td>2.0</td>\n",
       "      <td>FALL</td>\n",
       "      <td>1</td>\n",
       "      <td>Category_3</td>\n",
       "    </tr>\n",
       "    <tr>\n",
       "      <td>258059</td>\n",
       "      <td>29968</td>\n",
       "      <td>2014-06-24</td>\n",
       "      <td>SO267299</td>\n",
       "      <td>5</td>\n",
       "      <td>779</td>\n",
       "      <td>2319.9900</td>\n",
       "      <td>1</td>\n",
       "      <td>2014</td>\n",
       "      <td>June</td>\n",
       "      <td>1</td>\n",
       "      <td>4.0</td>\n",
       "      <td>SUMMER</td>\n",
       "      <td>0</td>\n",
       "      <td>Category_1</td>\n",
       "    </tr>\n",
       "  </tbody>\n",
       "</table>\n",
       "</div>"
      ],
      "text/plain": [
       "        CustomerId  OrderDate SalesOrderNumber  TerritoryID  ProductID  \\\n",
       "135159       12942 2014-06-05         SO487290            4        712   \n",
       "264889       29707 2015-04-24          SO50703            5        715   \n",
       "38938        28003 2015-07-17         SO493532            1        937   \n",
       "150384       26646 2014-11-11         SO237399            4        748   \n",
       "258059       29968 2014-06-24         SO267299            5        779   \n",
       "\n",
       "        UnitPrice  OrderQty  year     month  week_day  week_of_month  Season  \\\n",
       "135159     5.3940         7  2014      June         3            1.0  SUMMER   \n",
       "264889    28.8404         3  2015     April         4            4.0  SPRING   \n",
       "38938     48.5940         1  2015      July         4            3.0  SUMMER   \n",
       "150384   818.7000         1  2014  November         1            2.0    FALL   \n",
       "258059  2319.9900         1  2014      June         1            4.0  SUMMER   \n",
       "\n",
       "        is_holiday Product_cat  \n",
       "135159           0  Category_1  \n",
       "264889           0  Category_1  \n",
       "38938            0  Category_5  \n",
       "150384           1  Category_3  \n",
       "258059           0  Category_1  "
      ]
     },
     "execution_count": 48,
     "metadata": {},
     "output_type": "execute_result"
    }
   ],
   "source": [
    "X_train.head()"
   ]
  },
  {
   "cell_type": "code",
   "execution_count": 49,
   "metadata": {},
   "outputs": [],
   "source": [
    "X_train.drop(['CustomerId','OrderDate','SalesOrderNumber','ProductID','OrderQty'] ,axis=1 ,inplace=True)"
   ]
  },
  {
   "cell_type": "code",
   "execution_count": 50,
   "metadata": {},
   "outputs": [
    {
     "data": {
      "text/html": [
       "<div>\n",
       "<style scoped>\n",
       "    .dataframe tbody tr th:only-of-type {\n",
       "        vertical-align: middle;\n",
       "    }\n",
       "\n",
       "    .dataframe tbody tr th {\n",
       "        vertical-align: top;\n",
       "    }\n",
       "\n",
       "    .dataframe thead th {\n",
       "        text-align: right;\n",
       "    }\n",
       "</style>\n",
       "<table border=\"1\" class=\"dataframe\">\n",
       "  <thead>\n",
       "    <tr style=\"text-align: right;\">\n",
       "      <th></th>\n",
       "      <th>TerritoryID</th>\n",
       "      <th>UnitPrice</th>\n",
       "      <th>year</th>\n",
       "      <th>month</th>\n",
       "      <th>week_day</th>\n",
       "      <th>week_of_month</th>\n",
       "      <th>Season</th>\n",
       "      <th>is_holiday</th>\n",
       "      <th>Product_cat</th>\n",
       "    </tr>\n",
       "  </thead>\n",
       "  <tbody>\n",
       "    <tr>\n",
       "      <td>135159</td>\n",
       "      <td>4</td>\n",
       "      <td>5.3940</td>\n",
       "      <td>2014</td>\n",
       "      <td>June</td>\n",
       "      <td>3</td>\n",
       "      <td>1.0</td>\n",
       "      <td>SUMMER</td>\n",
       "      <td>0</td>\n",
       "      <td>Category_1</td>\n",
       "    </tr>\n",
       "    <tr>\n",
       "      <td>264889</td>\n",
       "      <td>5</td>\n",
       "      <td>28.8404</td>\n",
       "      <td>2015</td>\n",
       "      <td>April</td>\n",
       "      <td>4</td>\n",
       "      <td>4.0</td>\n",
       "      <td>SPRING</td>\n",
       "      <td>0</td>\n",
       "      <td>Category_1</td>\n",
       "    </tr>\n",
       "    <tr>\n",
       "      <td>38938</td>\n",
       "      <td>1</td>\n",
       "      <td>48.5940</td>\n",
       "      <td>2015</td>\n",
       "      <td>July</td>\n",
       "      <td>4</td>\n",
       "      <td>3.0</td>\n",
       "      <td>SUMMER</td>\n",
       "      <td>0</td>\n",
       "      <td>Category_5</td>\n",
       "    </tr>\n",
       "    <tr>\n",
       "      <td>150384</td>\n",
       "      <td>4</td>\n",
       "      <td>818.7000</td>\n",
       "      <td>2014</td>\n",
       "      <td>November</td>\n",
       "      <td>1</td>\n",
       "      <td>2.0</td>\n",
       "      <td>FALL</td>\n",
       "      <td>1</td>\n",
       "      <td>Category_3</td>\n",
       "    </tr>\n",
       "    <tr>\n",
       "      <td>258059</td>\n",
       "      <td>5</td>\n",
       "      <td>2319.9900</td>\n",
       "      <td>2014</td>\n",
       "      <td>June</td>\n",
       "      <td>1</td>\n",
       "      <td>4.0</td>\n",
       "      <td>SUMMER</td>\n",
       "      <td>0</td>\n",
       "      <td>Category_1</td>\n",
       "    </tr>\n",
       "  </tbody>\n",
       "</table>\n",
       "</div>"
      ],
      "text/plain": [
       "        TerritoryID  UnitPrice  year     month  week_day  week_of_month  \\\n",
       "135159            4     5.3940  2014      June         3            1.0   \n",
       "264889            5    28.8404  2015     April         4            4.0   \n",
       "38938             1    48.5940  2015      July         4            3.0   \n",
       "150384            4   818.7000  2014  November         1            2.0   \n",
       "258059            5  2319.9900  2014      June         1            4.0   \n",
       "\n",
       "        Season  is_holiday Product_cat  \n",
       "135159  SUMMER           0  Category_1  \n",
       "264889  SPRING           0  Category_1  \n",
       "38938   SUMMER           0  Category_5  \n",
       "150384    FALL           1  Category_3  \n",
       "258059  SUMMER           0  Category_1  "
      ]
     },
     "execution_count": 50,
     "metadata": {},
     "output_type": "execute_result"
    }
   ],
   "source": [
    "X_train.head()"
   ]
  },
  {
   "cell_type": "code",
   "execution_count": 51,
   "metadata": {},
   "outputs": [
    {
     "data": {
      "text/plain": [
       "135159    7\n",
       "264889    3\n",
       "38938     1\n",
       "150384    1\n",
       "258059    1\n",
       "         ..\n",
       "258933    1\n",
       "99167     3\n",
       "186505    2\n",
       "156174    6\n",
       "89896     1\n",
       "Name: OrderQty, Length: 189571, dtype: int64"
      ]
     },
     "execution_count": 51,
     "metadata": {},
     "output_type": "execute_result"
    }
   ],
   "source": [
    "X_target"
   ]
  },
  {
   "cell_type": "markdown",
   "metadata": {},
   "source": [
    "**Preprocessing the Data**"
   ]
  },
  {
   "cell_type": "code",
   "execution_count": 52,
   "metadata": {},
   "outputs": [],
   "source": [
    "#performing OneHotEncoder and Scaling the data\n",
    "from sklearn.preprocessing import OneHotEncoder,StandardScaler\n",
    "from sklearn.compose import ColumnTransformer\n",
    "\n",
    "\n",
    "#creating a pipeline\n",
    "from sklearn.pipeline import Pipeline\n",
    "pipeline=Pipeline([('columnTransformer',ColumnTransformer(\n",
    "    [('one_hot_encoder', OneHotEncoder(categories='auto',drop='first',handle_unknown='error'), [0,2,3,4,5,6,7,8]),\n",
    "     ('scaling',StandardScaler(),[1])\n",
    "    ],remainder='passthrough'))])\n",
    "Processed_X_train=pipeline.fit_transform(X_train).toarray()"
   ]
  },
  {
   "cell_type": "code",
   "execution_count": 53,
   "metadata": {},
   "outputs": [
    {
     "data": {
      "text/plain": [
       "array([[ 0.        ,  0.        ,  1.        , ...,  0.        ,\n",
       "         0.        , -0.63089189],\n",
       "       [ 0.        ,  0.        ,  0.        , ...,  0.        ,\n",
       "         0.        , -0.59942091],\n",
       "       [ 0.        ,  0.        ,  0.        , ...,  0.        ,\n",
       "         0.        , -0.57290659],\n",
       "       ...,\n",
       "       [ 0.        ,  0.        ,  1.        , ...,  0.        ,\n",
       "         0.        , -0.00754993],\n",
       "       [ 0.        ,  0.        ,  1.        , ...,  0.        ,\n",
       "         0.        , -0.61103662],\n",
       "       [ 0.        ,  0.        ,  0.        , ...,  0.        ,\n",
       "         0.        , -0.04027941]])"
      ]
     },
     "execution_count": 53,
     "metadata": {},
     "output_type": "execute_result"
    }
   ],
   "source": [
    "Processed_X_train"
   ]
  },
  {
   "cell_type": "code",
   "execution_count": 54,
   "metadata": {},
   "outputs": [
    {
     "data": {
      "text/plain": [
       "(189571, 41)"
      ]
     },
     "execution_count": 54,
     "metadata": {},
     "output_type": "execute_result"
    }
   ],
   "source": [
    "Processed_X_train.shape"
   ]
  },
  {
   "cell_type": "markdown",
   "metadata": {},
   "source": [
    "# Training Models"
   ]
  },
  {
   "cell_type": "markdown",
   "metadata": {},
   "source": [
    "**1 Linear Regression Models**"
   ]
  },
  {
   "cell_type": "code",
   "execution_count": 55,
   "metadata": {},
   "outputs": [
    {
     "data": {
      "text/plain": [
       "LinearRegression(copy_X=True, fit_intercept=True, n_jobs=None, normalize=False)"
      ]
     },
     "execution_count": 55,
     "metadata": {},
     "output_type": "execute_result"
    }
   ],
   "source": [
    "from sklearn.linear_model import LinearRegression\n",
    "LR_model=LinearRegression()\n",
    "LR_model.fit(Processed_X_train,X_target)"
   ]
  },
  {
   "cell_type": "code",
   "execution_count": 56,
   "metadata": {},
   "outputs": [
    {
     "data": {
      "text/plain": [
       "array([3.24143219, 2.59693909, 2.15726471, 2.06195831, 2.74049377,\n",
       "       2.35299683, 1.98469162, 2.26924133, 1.74981689, 2.88500214,\n",
       "       2.19221497, 1.85236359, 1.97463226, 2.46436691, 2.17721939])"
      ]
     },
     "execution_count": 56,
     "metadata": {},
     "output_type": "execute_result"
    }
   ],
   "source": [
    "#prediction on sample data\n",
    "sample=Processed_X_train[:15]\n",
    "sample_target=X_target[:15]\n",
    "sample_predict=LR_model.predict(sample)\n",
    "sample_predict"
   ]
  },
  {
   "cell_type": "code",
   "execution_count": 57,
   "metadata": {},
   "outputs": [
    {
     "data": {
      "text/plain": [
       "<matplotlib.axes._subplots.AxesSubplot at 0xe6dbf36488>"
      ]
     },
     "execution_count": 57,
     "metadata": {},
     "output_type": "execute_result"
    },
    {
     "data": {
      "image/png": "[encoded data removed]",
      "text/plain": [
       "<Figure size 432x288 with 1 Axes>"
      ]
     },
     "metadata": {
      "needs_background": "light"
     },
     "output_type": "display_data"
    }
   ],
   "source": [
    "#visualizing the actual and predicted data\n",
    "df=pd.DataFrame({'Actual':sample_target,'preicted':sample_predict})\n",
    "df.plot(kind='bar')"
   ]
  },
  {
   "cell_type": "code",
   "execution_count": 58,
   "metadata": {},
   "outputs": [
    {
     "name": "stdout",
     "output_type": "stream",
     "text": [
      "RMSE of LinearRegression: 2.580901208547902\n"
     ]
    }
   ],
   "source": [
    "#computing the RMSE for all the training data\n",
    "from sklearn.metrics import mean_squared_error\n",
    "pred=LR_model.predict(Processed_X_train)\n",
    "mse=mean_squared_error(X_target,pred)\n",
    "rmse=np.sqrt(mse)\n",
    "print('RMSE of LinearRegression:',rmse)"
   ]
  },
  {
   "cell_type": "markdown",
   "metadata": {},
   "source": [
    "**2 DecisionTreeRegressor Model**"
   ]
  },
  {
   "cell_type": "code",
   "execution_count": 59,
   "metadata": {},
   "outputs": [
    {
     "data": {
      "text/plain": [
       "DecisionTreeRegressor(criterion='mse', max_depth=None, max_features=None,\n",
       "                      max_leaf_nodes=None, min_impurity_decrease=0.0,\n",
       "                      min_impurity_split=None, min_samples_leaf=1,\n",
       "                      min_samples_split=2, min_weight_fraction_leaf=0.0,\n",
       "                      presort=False, random_state=40, splitter='best')"
      ]
     },
     "execution_count": 59,
     "metadata": {},
     "output_type": "execute_result"
    }
   ],
   "source": [
    "from sklearn.tree import DecisionTreeRegressor\n",
    "Dtree_model=DecisionTreeRegressor(random_state=40)\n",
    "Dtree_model.fit(Processed_X_train,X_target)"
   ]
  },
  {
   "cell_type": "code",
   "execution_count": 60,
   "metadata": {},
   "outputs": [
    {
     "data": {
      "text/plain": [
       "array([7.        , 2.5       , 1.        , 1.        , 1.        ,\n",
       "       3.25      , 1.        , 1.        , 1.        , 1.        ,\n",
       "       2.33333333, 1.        , 1.        , 4.        , 4.33333333])"
      ]
     },
     "execution_count": 60,
     "metadata": {},
     "output_type": "execute_result"
    }
   ],
   "source": [
    "#performing prediction on sample data using DecisionTreeRegressor Model\n",
    "sample_predict=Dtree_model.predict(sample)\n",
    "sample_predict"
   ]
  },
  {
   "cell_type": "code",
   "execution_count": 61,
   "metadata": {},
   "outputs": [
    {
     "data": {
      "text/plain": [
       "<matplotlib.axes._subplots.AxesSubplot at 0xe6d9e03b88>"
      ]
     },
     "execution_count": 61,
     "metadata": {},
     "output_type": "execute_result"
    },
    {
     "data": {
      "image/png": "[encoded data removed]",
      "text/plain": [
       "<Figure size 432x288 with 1 Axes>"
      ]
     },
     "metadata": {
      "needs_background": "light"
     },
     "output_type": "display_data"
    }
   ],
   "source": [
    "#visualizing the actual and predicted data\n",
    "df=pd.DataFrame({'Actual':sample_target,'preicted':sample_predict})\n",
    "df.plot(kind='bar')"
   ]
  },
  {
   "cell_type": "code",
   "execution_count": 62,
   "metadata": {},
   "outputs": [
    {
     "name": "stdout",
     "output_type": "stream",
     "text": [
      "RMSE of DecisionTreeRegressor model is: 0.9578009389703717\n"
     ]
    }
   ],
   "source": [
    "pred=Dtree_model.predict(Processed_X_train)\n",
    "mse=mean_squared_error(X_target,pred)\n",
    "rmse=np.sqrt(mse)\n",
    "print('RMSE of DecisionTreeRegressor model is:',rmse)"
   ]
  },
  {
   "cell_type": "markdown",
   "metadata": {},
   "source": [
    "**3 RandomForestRegressor Model**"
   ]
  },
  {
   "cell_type": "code",
   "execution_count": 63,
   "metadata": {},
   "outputs": [
    {
     "name": "stderr",
     "output_type": "stream",
     "text": [
      "C:\\Users\\Deepjyoti\\Anaconda3\\lib\\site-packages\\sklearn\\ensemble\\forest.py:245: FutureWarning: The default value of n_estimators will change from 10 in version 0.20 to 100 in 0.22.\n",
      "  \"10 in version 0.20 to 100 in 0.22.\", FutureWarning)\n"
     ]
    },
    {
     "data": {
      "text/plain": [
       "RandomForestRegressor(bootstrap=True, criterion='mse', max_depth=None,\n",
       "                      max_features='auto', max_leaf_nodes=None,\n",
       "                      min_impurity_decrease=0.0, min_impurity_split=None,\n",
       "                      min_samples_leaf=1, min_samples_split=2,\n",
       "                      min_weight_fraction_leaf=0.0, n_estimators=10, n_jobs=2,\n",
       "                      oob_score=False, random_state=40, verbose=0,\n",
       "                      warm_start=False)"
      ]
     },
     "execution_count": 63,
     "metadata": {},
     "output_type": "execute_result"
    }
   ],
   "source": [
    "from sklearn.ensemble import RandomForestRegressor\n",
    "RForest_model=RandomForestRegressor(random_state=40,n_jobs=2)\n",
    "RForest_model.fit(Processed_X_train,X_target)"
   ]
  },
  {
   "cell_type": "code",
   "execution_count": 64,
   "metadata": {},
   "outputs": [
    {
     "data": {
      "text/plain": [
       "array([6.5       , 2.33925866, 1.1       , 2.2       , 1.        ,\n",
       "       3.27416667, 1.        , 1.        , 1.        , 1.        ,\n",
       "       2.28      , 1.        , 1.        , 4.        , 4.20333333])"
      ]
     },
     "execution_count": 64,
     "metadata": {},
     "output_type": "execute_result"
    }
   ],
   "source": [
    "#performing prediction on sample data using RandomForestRegressor Model\n",
    "sample_predict=RForest_model.predict(sample)\n",
    "sample_predict"
   ]
  },
  {
   "cell_type": "code",
   "execution_count": 65,
   "metadata": {},
   "outputs": [
    {
     "data": {
      "text/plain": [
       "<matplotlib.axes._subplots.AxesSubplot at 0xe6da629ec8>"
      ]
     },
     "execution_count": 65,
     "metadata": {},
     "output_type": "execute_result"
    },
    {
     "data": {
      "image/png": "[encoded data removed]",
      "text/plain": [
       "<Figure size 432x288 with 1 Axes>"
      ]
     },
     "metadata": {
      "needs_background": "light"
     },
     "output_type": "display_data"
    }
   ],
   "source": [
    "#visualizing the actual and predicted data\n",
    "df=pd.DataFrame({'Actual':sample_target,'preicted':sample_predict})\n",
    "df.plot(kind='bar')"
   ]
  },
  {
   "cell_type": "code",
   "execution_count": 66,
   "metadata": {},
   "outputs": [
    {
     "name": "stdout",
     "output_type": "stream",
     "text": [
      "RMSE of RandomForestRegressor model is: 1.0504724958365774\n"
     ]
    }
   ],
   "source": [
    "pred=RForest_model.predict(Processed_X_train)\n",
    "rmse=np.sqrt(mean_squared_error(X_target,pred))\n",
    "print('RMSE of RandomForestRegressor model is:',rmse)"
   ]
  },
  {
   "cell_type": "markdown",
   "metadata": {},
   "source": [
    "From all the three models LinearRegression Model is having the largest RMSE 2.5808939173786443 ,RMSE of RandomForestRegressor model is: 1.018495098768923.The Lowest RMSE 0.9578009389703717 is for the DecisionTree model.\n",
    "\n",
    "The LinearRegression model maybe underfitting clearly because as seen from the bar plot there is huge difference in predicted  and actual values.Where as the RandomForest and DecisionTree model are giving good results as seen in the bar plot.Thus we need to crossvalidate to see which model is overfitting and underfitting and to choose the best model finally."
   ]
  },
  {
   "cell_type": "markdown",
   "metadata": {},
   "source": [
    "**Creating a function to display scores**"
   ]
  },
  {
   "cell_type": "code",
   "execution_count": 67,
   "metadata": {},
   "outputs": [],
   "source": [
    "def display_scores(scores):\n",
    "    print('scores:',scores)\n",
    "    print('Mean:',scores.mean())\n",
    "    print('Standard_deviation:',scores.std())"
   ]
  },
  {
   "cell_type": "markdown",
   "metadata": {},
   "source": [
    "**CrossValidation on Models**"
   ]
  },
  {
   "cell_type": "code",
   "execution_count": 68,
   "metadata": {},
   "outputs": [],
   "source": [
    "from sklearn.model_selection import cross_val_score\n",
    "\n",
    "#cvscore on LinearRegression Model\n",
    "scores=cross_val_score(LR_model,Processed_X_train,X_target,cv=5,scoring='neg_mean_squared_error')\n",
    "lin_rmse=np.sqrt(-scores)"
   ]
  },
  {
   "cell_type": "code",
   "execution_count": 69,
   "metadata": {},
   "outputs": [],
   "source": [
    "#cvscore on DecisionTreeRegressor Model \n",
    "scores=cross_val_score(Dtree_model,Processed_X_train,X_target,cv=5,scoring='neg_mean_squared_error')\n",
    "tree_rmse=np.sqrt(-scores)"
   ]
  },
  {
   "cell_type": "code",
   "execution_count": 70,
   "metadata": {},
   "outputs": [],
   "source": [
    "#cvscore on RandomForestRegressor Model\n",
    "scores=cross_val_score(RForest_model,Processed_X_train,X_target,cv=5,scoring='neg_mean_squared_error')\n",
    "forest_rmse=np.sqrt(-scores)"
   ]
  },
  {
   "cell_type": "markdown",
   "metadata": {},
   "source": [
    "Displaying the various Crossvalidation scores of the models"
   ]
  },
  {
   "cell_type": "code",
   "execution_count": 71,
   "metadata": {},
   "outputs": [
    {
     "name": "stdout",
     "output_type": "stream",
     "text": [
      "scores: [2.59057923 2.55138188 2.57212632 2.62994808 2.56230507]\n",
      "Mean: 2.58126811644887\n",
      "Standard_deviation: 0.027541938770157284\n"
     ]
    }
   ],
   "source": [
    "#crossvalidation scores of LinearRegression Model\n",
    "display_scores(lin_rmse)"
   ]
  },
  {
   "cell_type": "code",
   "execution_count": 72,
   "metadata": {},
   "outputs": [
    {
     "name": "stdout",
     "output_type": "stream",
     "text": [
      "scores: [1.79536394 1.78139093 1.82419221 1.81619246 1.78660365]\n",
      "Mean: 1.8007486375119317\n",
      "Standard_deviation: 0.016684778714097397\n"
     ]
    }
   ],
   "source": [
    "#crossvalidation scores of DecsisionTreeRegression Model\n",
    "display_scores(tree_rmse)"
   ]
  },
  {
   "cell_type": "code",
   "execution_count": 73,
   "metadata": {},
   "outputs": [
    {
     "name": "stdout",
     "output_type": "stream",
     "text": [
      "scores: [1.61099408 1.58898262 1.61783528 1.6173779  1.58330622]\n",
      "Mean: 1.6036992208147454\n",
      "Standard_deviation: 0.014646516942960089\n"
     ]
    }
   ],
   "source": [
    "#crossvalidation scores of RandomForestRegressor Model\n",
    "display_scores(forest_rmse)"
   ]
  },
  {
   "cell_type": "markdown",
   "metadata": {},
   "source": [
    "From all the scores I found that RandomForestRegressor Model is having best crossvalidation score."
   ]
  },
  {
   "cell_type": "markdown",
   "metadata": {},
   "source": [
    "# Fine Tuning the model"
   ]
  },
  {
   "cell_type": "markdown",
   "metadata": {},
   "source": [
    "**1 Performing RandomizedSearchCV**"
   ]
  },
  {
   "cell_type": "code",
   "execution_count": 74,
   "metadata": {},
   "outputs": [
    {
     "data": {
      "text/plain": [
       "RandomizedSearchCV(cv=5, error_score='raise-deprecating',\n",
       "                   estimator=RandomForestRegressor(bootstrap=True,\n",
       "                                                   criterion='mse',\n",
       "                                                   max_depth=None,\n",
       "                                                   max_features='auto',\n",
       "                                                   max_leaf_nodes=None,\n",
       "                                                   min_impurity_decrease=0.0,\n",
       "                                                   min_impurity_split=None,\n",
       "                                                   min_samples_leaf=1,\n",
       "                                                   min_samples_split=2,\n",
       "                                                   min_weight_fraction_leaf=0.0,\n",
       "                                                   n_estimators=10, n_jobs=2,\n",
       "                                                   oob_score=False,\n",
       "                                                   random_state=40, v...\n",
       "                                                   warm_start=False),\n",
       "                   iid='warn', n_iter=5, n_jobs=2,\n",
       "                   param_distributions={'max_features': <scipy.stats._distn_infrastructure.rv_frozen object at 0x000000E6DD39A408>,\n",
       "                                        'n_estimators': <scipy.stats._distn_infrastructure.rv_frozen object at 0x000000E6DD39A288>},\n",
       "                   pre_dispatch='2*n_jobs', random_state=41, refit=True,\n",
       "                   return_train_score=False, scoring='neg_mean_squared_error',\n",
       "                   verbose=0)"
      ]
     },
     "execution_count": 74,
     "metadata": {},
     "output_type": "execute_result"
    }
   ],
   "source": [
    "from sklearn.model_selection import RandomizedSearchCV\n",
    "from scipy.stats import randint\n",
    "\n",
    "param_distribs={'n_estimators':randint(low=10,high=50),\n",
    "               'max_features': randint(low=30 ,high=41)}\n",
    "\n",
    "rndsearch=RandomizedSearchCV(RForest_model,param_distribs,cv=5,n_iter=5 ,n_jobs=2,\n",
    "                             scoring='neg_mean_squared_error',random_state=41)\n",
    "rndsearch.fit(Processed_X_train,X_target)"
   ]
  },
  {
   "cell_type": "code",
   "execution_count": 75,
   "metadata": {},
   "outputs": [
    {
     "data": {
      "text/plain": [
       "RandomForestRegressor(bootstrap=True, criterion='mse', max_depth=None,\n",
       "                      max_features=37, max_leaf_nodes=None,\n",
       "                      min_impurity_decrease=0.0, min_impurity_split=None,\n",
       "                      min_samples_leaf=1, min_samples_split=2,\n",
       "                      min_weight_fraction_leaf=0.0, n_estimators=31, n_jobs=2,\n",
       "                      oob_score=False, random_state=40, verbose=0,\n",
       "                      warm_start=False)"
      ]
     },
     "execution_count": 75,
     "metadata": {},
     "output_type": "execute_result"
    }
   ],
   "source": [
    "rndsearch.best_estimator_"
   ]
  },
  {
   "cell_type": "code",
   "execution_count": 76,
   "metadata": {},
   "outputs": [
    {
     "data": {
      "text/plain": [
       "{'max_features': 37, 'n_estimators': 31}"
      ]
     },
     "execution_count": 76,
     "metadata": {},
     "output_type": "execute_result"
    }
   ],
   "source": [
    "rndsearch.best_params_"
   ]
  },
  {
   "cell_type": "code",
   "execution_count": 77,
   "metadata": {},
   "outputs": [
    {
     "name": "stdout",
     "output_type": "stream",
     "text": [
      "1.591037422621416 {'max_features': 30, 'n_estimators': 45}\n",
      "1.5901185784317033 {'max_features': 32, 'n_estimators': 26}\n",
      "1.5855301403546105 {'max_features': 31, 'n_estimators': 35}\n",
      "1.5787218351879737 {'max_features': 37, 'n_estimators': 31}\n",
      "1.5945903795517047 {'max_features': 40, 'n_estimators': 13}\n"
     ]
    }
   ],
   "source": [
    "r_result=rndsearch.cv_results_\n",
    "for mean_score,para in zip(r_result['mean_test_score'],r_result['params']):\n",
    "    print(np.sqrt(-mean_score),para)"
   ]
  },
  {
   "cell_type": "markdown",
   "metadata": {},
   "source": [
    "By doing RandomizedSearchCV I found that n_estimators=45,26,35,31,13  and maximum features should be 30,32,31,37,40 respectively gives best result.The best score is 1.1.5787218351879737 for max_features: 37 and n_estimators: 31\n",
    "\n",
    "Now from above result we can narrow down our search for best parameters and estimators using GridSearchCV"
   ]
  },
  {
   "cell_type": "markdown",
   "metadata": {},
   "source": [
    "**2 Performing GridSearchCV**"
   ]
  },
  {
   "cell_type": "code",
   "execution_count": 78,
   "metadata": {},
   "outputs": [],
   "source": [
    "from sklearn.model_selection import GridSearchCV\n",
    "param_grid1=[{'n_estimators':[31,33,35],'max_features':[35,37,40]}]"
   ]
  },
  {
   "cell_type": "code",
   "execution_count": 79,
   "metadata": {},
   "outputs": [
    {
     "data": {
      "text/plain": [
       "GridSearchCV(cv=5, error_score='raise-deprecating',\n",
       "             estimator=RandomForestRegressor(bootstrap=True, criterion='mse',\n",
       "                                             max_depth=None,\n",
       "                                             max_features='auto',\n",
       "                                             max_leaf_nodes=None,\n",
       "                                             min_impurity_decrease=0.0,\n",
       "                                             min_impurity_split=None,\n",
       "                                             min_samples_leaf=1,\n",
       "                                             min_samples_split=2,\n",
       "                                             min_weight_fraction_leaf=0.0,\n",
       "                                             n_estimators=10, n_jobs=2,\n",
       "                                             oob_score=False, random_state=40,\n",
       "                                             verbose=0, warm_start=False),\n",
       "             iid='warn', n_jobs=2,\n",
       "             param_grid=[{'max_features': [35, 37, 40],\n",
       "                          'n_estimators': [31, 33, 35]}],\n",
       "             pre_dispatch='2*n_jobs', refit=True, return_train_score=False,\n",
       "             scoring='neg_mean_squared_error', verbose=0)"
      ]
     },
     "execution_count": 79,
     "metadata": {},
     "output_type": "execute_result"
    }
   ],
   "source": [
    "gridsearch=GridSearchCV(RForest_model,param_grid1,cv=5,n_jobs=2,scoring='neg_mean_squared_error')\n",
    "gridsearch.fit(Processed_X_train,X_target)"
   ]
  },
  {
   "cell_type": "code",
   "execution_count": 80,
   "metadata": {},
   "outputs": [
    {
     "data": {
      "text/plain": [
       "{'max_features': 40, 'n_estimators': 35}"
      ]
     },
     "execution_count": 80,
     "metadata": {},
     "output_type": "execute_result"
    }
   ],
   "source": [
    "gridsearch.best_params_"
   ]
  },
  {
   "cell_type": "code",
   "execution_count": 81,
   "metadata": {},
   "outputs": [
    {
     "data": {
      "text/plain": [
       "RandomForestRegressor(bootstrap=True, criterion='mse', max_depth=None,\n",
       "                      max_features=40, max_leaf_nodes=None,\n",
       "                      min_impurity_decrease=0.0, min_impurity_split=None,\n",
       "                      min_samples_leaf=1, min_samples_split=2,\n",
       "                      min_weight_fraction_leaf=0.0, n_estimators=35, n_jobs=2,\n",
       "                      oob_score=False, random_state=40, verbose=0,\n",
       "                      warm_start=False)"
      ]
     },
     "execution_count": 81,
     "metadata": {},
     "output_type": "execute_result"
    }
   ],
   "source": [
    "gridsearch.best_estimator_"
   ]
  },
  {
   "cell_type": "code",
   "execution_count": 82,
   "metadata": {},
   "outputs": [
    {
     "name": "stdout",
     "output_type": "stream",
     "text": [
      "1.579582291917129 {'max_features': 35, 'n_estimators': 31}\n",
      "1.5786433148507595 {'max_features': 35, 'n_estimators': 33}\n",
      "1.5781277042867752 {'max_features': 35, 'n_estimators': 35}\n",
      "1.5787218351879737 {'max_features': 37, 'n_estimators': 31}\n",
      "1.5780710849578217 {'max_features': 37, 'n_estimators': 33}\n",
      "1.577107577508271 {'max_features': 37, 'n_estimators': 35}\n",
      "1.577907220055193 {'max_features': 40, 'n_estimators': 31}\n",
      "1.5771269642886325 {'max_features': 40, 'n_estimators': 33}\n",
      "1.5763823880754568 {'max_features': 40, 'n_estimators': 35}\n"
     ]
    }
   ],
   "source": [
    "gscore=gridsearch.cv_results_\n",
    "for mean_score,para in zip(gscore['mean_test_score'],gscore['params']):\n",
    "    print(np.sqrt(-mean_score),para)"
   ]
  },
  {
   "cell_type": "code",
   "execution_count": 83,
   "metadata": {},
   "outputs": [],
   "source": [
    "#performing GridSearchCV for bootstrap = False\n",
    "param_grid2={'bootstrap':[False],'n_estimators':[32,34,35],'max_features':[35,38,40]}\n",
    "GridSearch=GridSearchCV(RForest_model,param_grid2,cv=5,n_jobs=2,scoring='neg_mean_squared_error')"
   ]
  },
  {
   "cell_type": "code",
   "execution_count": 84,
   "metadata": {},
   "outputs": [
    {
     "data": {
      "text/plain": [
       "GridSearchCV(cv=5, error_score='raise-deprecating',\n",
       "             estimator=RandomForestRegressor(bootstrap=True, criterion='mse',\n",
       "                                             max_depth=None,\n",
       "                                             max_features='auto',\n",
       "                                             max_leaf_nodes=None,\n",
       "                                             min_impurity_decrease=0.0,\n",
       "                                             min_impurity_split=None,\n",
       "                                             min_samples_leaf=1,\n",
       "                                             min_samples_split=2,\n",
       "                                             min_weight_fraction_leaf=0.0,\n",
       "                                             n_estimators=10, n_jobs=2,\n",
       "                                             oob_score=False, random_state=40,\n",
       "                                             verbose=0, warm_start=False),\n",
       "             iid='warn', n_jobs=2,\n",
       "             param_grid={'bootstrap': [False], 'max_features': [35, 38, 40],\n",
       "                         'n_estimators': [32, 34, 35]},\n",
       "             pre_dispatch='2*n_jobs', refit=True, return_train_score=False,\n",
       "             scoring='neg_mean_squared_error', verbose=0)"
      ]
     },
     "execution_count": 84,
     "metadata": {},
     "output_type": "execute_result"
    }
   ],
   "source": [
    "GridSearch.fit(Processed_X_train,X_target)"
   ]
  },
  {
   "cell_type": "code",
   "execution_count": 85,
   "metadata": {},
   "outputs": [
    {
     "data": {
      "text/plain": [
       "{'bootstrap': False, 'max_features': 35, 'n_estimators': 34}"
      ]
     },
     "execution_count": 85,
     "metadata": {},
     "output_type": "execute_result"
    }
   ],
   "source": [
    "GridSearch.best_params_"
   ]
  },
  {
   "cell_type": "code",
   "execution_count": 86,
   "metadata": {},
   "outputs": [
    {
     "data": {
      "text/plain": [
       "RandomForestRegressor(bootstrap=False, criterion='mse', max_depth=None,\n",
       "                      max_features=35, max_leaf_nodes=None,\n",
       "                      min_impurity_decrease=0.0, min_impurity_split=None,\n",
       "                      min_samples_leaf=1, min_samples_split=2,\n",
       "                      min_weight_fraction_leaf=0.0, n_estimators=34, n_jobs=2,\n",
       "                      oob_score=False, random_state=40, verbose=0,\n",
       "                      warm_start=False)"
      ]
     },
     "execution_count": 86,
     "metadata": {},
     "output_type": "execute_result"
    }
   ],
   "source": [
    "GridSearch.best_estimator_"
   ]
  },
  {
   "cell_type": "code",
   "execution_count": 87,
   "metadata": {},
   "outputs": [
    {
     "name": "stdout",
     "output_type": "stream",
     "text": [
      "1.6809610081783708 {'bootstrap': False, 'max_features': 35, 'n_estimators': 32}\n",
      "1.6801894019045287 {'bootstrap': False, 'max_features': 35, 'n_estimators': 34}\n",
      "1.6803980084362553 {'bootstrap': False, 'max_features': 35, 'n_estimators': 35}\n",
      "1.6988455833928648 {'bootstrap': False, 'max_features': 38, 'n_estimators': 32}\n",
      "1.6971596886148859 {'bootstrap': False, 'max_features': 38, 'n_estimators': 34}\n",
      "1.6974002302199869 {'bootstrap': False, 'max_features': 38, 'n_estimators': 35}\n",
      "1.7431814962050127 {'bootstrap': False, 'max_features': 40, 'n_estimators': 32}\n",
      "1.7433771107100513 {'bootstrap': False, 'max_features': 40, 'n_estimators': 34}\n",
      "1.7434013252788 {'bootstrap': False, 'max_features': 40, 'n_estimators': 35}\n"
     ]
    }
   ],
   "source": [
    "GScore=GridSearch.cv_results_\n",
    "for mean_score,para in zip(GScore['mean_test_score'],GScore['params']):\n",
    "    print(np.sqrt(-mean_score),para)"
   ]
  },
  {
   "cell_type": "markdown",
   "metadata": {},
   "source": [
    "From GridSearchCV I found that bootstrap=True is yeilding better results than bootstrap = False. The GridSearchCV  for bootstrap = True is giving best score of 1.5763823880754568 for 'max_features': 40, 'n_estimators': 35 ,whereas GridSearchCV for bootstrap = False the best score is 1.6801894019045287 for 'bootstrap': False, 'max_features': 35, 'n_estimators': 34 . \n",
    "Thus it is clear that boostrap=True is giving better results."
   ]
  },
  {
   "cell_type": "markdown",
   "metadata": {},
   "source": [
    "# Evaluate the model on final data "
   ]
  },
  {
   "cell_type": "code",
   "execution_count": 88,
   "metadata": {},
   "outputs": [
    {
     "data": {
      "text/html": [
       "<div>\n",
       "<style scoped>\n",
       "    .dataframe tbody tr th:only-of-type {\n",
       "        vertical-align: middle;\n",
       "    }\n",
       "\n",
       "    .dataframe tbody tr th {\n",
       "        vertical-align: top;\n",
       "    }\n",
       "\n",
       "    .dataframe thead th {\n",
       "        text-align: right;\n",
       "    }\n",
       "</style>\n",
       "<table border=\"1\" class=\"dataframe\">\n",
       "  <thead>\n",
       "    <tr style=\"text-align: right;\">\n",
       "      <th></th>\n",
       "      <th>CustomerId</th>\n",
       "      <th>OrderDate</th>\n",
       "      <th>SalesOrderNumber</th>\n",
       "      <th>TerritoryID</th>\n",
       "      <th>ProductID</th>\n",
       "      <th>UnitPrice</th>\n",
       "      <th>OrderQty</th>\n",
       "      <th>year</th>\n",
       "      <th>month</th>\n",
       "      <th>week_day</th>\n",
       "      <th>week_of_month</th>\n",
       "      <th>Season</th>\n",
       "      <th>is_holiday</th>\n",
       "      <th>Product_cat</th>\n",
       "    </tr>\n",
       "  </thead>\n",
       "  <tbody>\n",
       "    <tr>\n",
       "      <td>29510</td>\n",
       "      <td>29689</td>\n",
       "      <td>2015-05-24</td>\n",
       "      <td>SO51123</td>\n",
       "      <td>1</td>\n",
       "      <td>711</td>\n",
       "      <td>15.7455</td>\n",
       "      <td>7</td>\n",
       "      <td>2015</td>\n",
       "      <td>May</td>\n",
       "      <td>6</td>\n",
       "      <td>4.0</td>\n",
       "      <td>SPRING</td>\n",
       "      <td>0</td>\n",
       "      <td>Category_1</td>\n",
       "    </tr>\n",
       "    <tr>\n",
       "      <td>214120</td>\n",
       "      <td>19130</td>\n",
       "      <td>2015-09-28</td>\n",
       "      <td>SO466509</td>\n",
       "      <td>4</td>\n",
       "      <td>882</td>\n",
       "      <td>53.9900</td>\n",
       "      <td>1</td>\n",
       "      <td>2015</td>\n",
       "      <td>September</td>\n",
       "      <td>0</td>\n",
       "      <td>4.0</td>\n",
       "      <td>FALL</td>\n",
       "      <td>0</td>\n",
       "      <td>Category_8</td>\n",
       "    </tr>\n",
       "    <tr>\n",
       "      <td>187736</td>\n",
       "      <td>19879</td>\n",
       "      <td>2015-07-29</td>\n",
       "      <td>SO462888</td>\n",
       "      <td>4</td>\n",
       "      <td>966</td>\n",
       "      <td>2384.0701</td>\n",
       "      <td>1</td>\n",
       "      <td>2015</td>\n",
       "      <td>July</td>\n",
       "      <td>2</td>\n",
       "      <td>5.0</td>\n",
       "      <td>SUMMER</td>\n",
       "      <td>0</td>\n",
       "      <td>Category_4</td>\n",
       "    </tr>\n",
       "    <tr>\n",
       "      <td>221080</td>\n",
       "      <td>11273</td>\n",
       "      <td>2015-10-17</td>\n",
       "      <td>SO184352</td>\n",
       "      <td>4</td>\n",
       "      <td>712</td>\n",
       "      <td>8.9900</td>\n",
       "      <td>1</td>\n",
       "      <td>2015</td>\n",
       "      <td>October</td>\n",
       "      <td>5</td>\n",
       "      <td>3.0</td>\n",
       "      <td>FALL</td>\n",
       "      <td>0</td>\n",
       "      <td>Category_1</td>\n",
       "    </tr>\n",
       "    <tr>\n",
       "      <td>264026</td>\n",
       "      <td>29513</td>\n",
       "      <td>2015-03-24</td>\n",
       "      <td>SO50231</td>\n",
       "      <td>5</td>\n",
       "      <td>767</td>\n",
       "      <td>469.7940</td>\n",
       "      <td>1</td>\n",
       "      <td>2015</td>\n",
       "      <td>March</td>\n",
       "      <td>1</td>\n",
       "      <td>4.0</td>\n",
       "      <td>SPRING</td>\n",
       "      <td>0</td>\n",
       "      <td>Category_5</td>\n",
       "    </tr>\n",
       "    <tr>\n",
       "      <td>...</td>\n",
       "      <td>...</td>\n",
       "      <td>...</td>\n",
       "      <td>...</td>\n",
       "      <td>...</td>\n",
       "      <td>...</td>\n",
       "      <td>...</td>\n",
       "      <td>...</td>\n",
       "      <td>...</td>\n",
       "      <td>...</td>\n",
       "      <td>...</td>\n",
       "      <td>...</td>\n",
       "      <td>...</td>\n",
       "      <td>...</td>\n",
       "      <td>...</td>\n",
       "    </tr>\n",
       "    <tr>\n",
       "      <td>148517</td>\n",
       "      <td>30106</td>\n",
       "      <td>2014-10-24</td>\n",
       "      <td>SO79810</td>\n",
       "      <td>4</td>\n",
       "      <td>764</td>\n",
       "      <td>782.9900</td>\n",
       "      <td>1</td>\n",
       "      <td>2014</td>\n",
       "      <td>October</td>\n",
       "      <td>4</td>\n",
       "      <td>4.0</td>\n",
       "      <td>FALL</td>\n",
       "      <td>0</td>\n",
       "      <td>Category_3</td>\n",
       "    </tr>\n",
       "    <tr>\n",
       "      <td>128041</td>\n",
       "      <td>11945</td>\n",
       "      <td>2014-03-24</td>\n",
       "      <td>SO203437</td>\n",
       "      <td>4</td>\n",
       "      <td>762</td>\n",
       "      <td>234.8970</td>\n",
       "      <td>4</td>\n",
       "      <td>2014</td>\n",
       "      <td>March</td>\n",
       "      <td>0</td>\n",
       "      <td>4.0</td>\n",
       "      <td>SPRING</td>\n",
       "      <td>0</td>\n",
       "      <td>Catgeory_2</td>\n",
       "    </tr>\n",
       "    <tr>\n",
       "      <td>58459</td>\n",
       "      <td>12930</td>\n",
       "      <td>2015-09-16</td>\n",
       "      <td>SO88102</td>\n",
       "      <td>1</td>\n",
       "      <td>909</td>\n",
       "      <td>23.4840</td>\n",
       "      <td>10</td>\n",
       "      <td>2015</td>\n",
       "      <td>September</td>\n",
       "      <td>2</td>\n",
       "      <td>3.0</td>\n",
       "      <td>FALL</td>\n",
       "      <td>0</td>\n",
       "      <td>Category_6</td>\n",
       "    </tr>\n",
       "    <tr>\n",
       "      <td>139782</td>\n",
       "      <td>13400</td>\n",
       "      <td>2014-07-22</td>\n",
       "      <td>SO267579</td>\n",
       "      <td>4</td>\n",
       "      <td>707</td>\n",
       "      <td>34.9900</td>\n",
       "      <td>1</td>\n",
       "      <td>2014</td>\n",
       "      <td>July</td>\n",
       "      <td>1</td>\n",
       "      <td>4.0</td>\n",
       "      <td>SUMMER</td>\n",
       "      <td>0</td>\n",
       "      <td>Category_1</td>\n",
       "    </tr>\n",
       "    <tr>\n",
       "      <td>49673</td>\n",
       "      <td>19024</td>\n",
       "      <td>2015-08-19</td>\n",
       "      <td>SO55015</td>\n",
       "      <td>1</td>\n",
       "      <td>871</td>\n",
       "      <td>9.9900</td>\n",
       "      <td>1</td>\n",
       "      <td>2015</td>\n",
       "      <td>August</td>\n",
       "      <td>2</td>\n",
       "      <td>3.0</td>\n",
       "      <td>SUMMER</td>\n",
       "      <td>0</td>\n",
       "      <td>Category_3</td>\n",
       "    </tr>\n",
       "  </tbody>\n",
       "</table>\n",
       "<p>81246 rows × 14 columns</p>\n",
       "</div>"
      ],
      "text/plain": [
       "        CustomerId  OrderDate SalesOrderNumber  TerritoryID  ProductID  \\\n",
       "29510        29689 2015-05-24          SO51123            1        711   \n",
       "214120       19130 2015-09-28         SO466509            4        882   \n",
       "187736       19879 2015-07-29         SO462888            4        966   \n",
       "221080       11273 2015-10-17         SO184352            4        712   \n",
       "264026       29513 2015-03-24          SO50231            5        767   \n",
       "...            ...        ...              ...          ...        ...   \n",
       "148517       30106 2014-10-24          SO79810            4        764   \n",
       "128041       11945 2014-03-24         SO203437            4        762   \n",
       "58459        12930 2015-09-16          SO88102            1        909   \n",
       "139782       13400 2014-07-22         SO267579            4        707   \n",
       "49673        19024 2015-08-19          SO55015            1        871   \n",
       "\n",
       "        UnitPrice  OrderQty  year      month  week_day  week_of_month  Season  \\\n",
       "29510     15.7455         7  2015        May         6            4.0  SPRING   \n",
       "214120    53.9900         1  2015  September         0            4.0    FALL   \n",
       "187736  2384.0701         1  2015       July         2            5.0  SUMMER   \n",
       "221080     8.9900         1  2015    October         5            3.0    FALL   \n",
       "264026   469.7940         1  2015      March         1            4.0  SPRING   \n",
       "...           ...       ...   ...        ...       ...            ...     ...   \n",
       "148517   782.9900         1  2014    October         4            4.0    FALL   \n",
       "128041   234.8970         4  2014      March         0            4.0  SPRING   \n",
       "58459     23.4840        10  2015  September         2            3.0    FALL   \n",
       "139782    34.9900         1  2014       July         1            4.0  SUMMER   \n",
       "49673      9.9900         1  2015     August         2            3.0  SUMMER   \n",
       "\n",
       "        is_holiday Product_cat  \n",
       "29510            0  Category_1  \n",
       "214120           0  Category_8  \n",
       "187736           0  Category_4  \n",
       "221080           0  Category_1  \n",
       "264026           0  Category_5  \n",
       "...            ...         ...  \n",
       "148517           0  Category_3  \n",
       "128041           0  Catgeory_2  \n",
       "58459            0  Category_6  \n",
       "139782           0  Category_1  \n",
       "49673            0  Category_3  \n",
       "\n",
       "[81246 rows x 14 columns]"
      ]
     },
     "execution_count": 88,
     "metadata": {},
     "output_type": "execute_result"
    }
   ],
   "source": [
    "Test_set"
   ]
  },
  {
   "cell_type": "code",
   "execution_count": 89,
   "metadata": {},
   "outputs": [],
   "source": [
    "Y_target=Test_set['OrderQty']"
   ]
  },
  {
   "cell_type": "code",
   "execution_count": 90,
   "metadata": {},
   "outputs": [
    {
     "data": {
      "text/html": [
       "<div>\n",
       "<style scoped>\n",
       "    .dataframe tbody tr th:only-of-type {\n",
       "        vertical-align: middle;\n",
       "    }\n",
       "\n",
       "    .dataframe tbody tr th {\n",
       "        vertical-align: top;\n",
       "    }\n",
       "\n",
       "    .dataframe thead th {\n",
       "        text-align: right;\n",
       "    }\n",
       "</style>\n",
       "<table border=\"1\" class=\"dataframe\">\n",
       "  <thead>\n",
       "    <tr style=\"text-align: right;\">\n",
       "      <th></th>\n",
       "      <th>TerritoryID</th>\n",
       "      <th>UnitPrice</th>\n",
       "      <th>year</th>\n",
       "      <th>month</th>\n",
       "      <th>week_day</th>\n",
       "      <th>week_of_month</th>\n",
       "      <th>Season</th>\n",
       "      <th>is_holiday</th>\n",
       "      <th>Product_cat</th>\n",
       "    </tr>\n",
       "  </thead>\n",
       "  <tbody>\n",
       "    <tr>\n",
       "      <td>29510</td>\n",
       "      <td>1</td>\n",
       "      <td>15.7455</td>\n",
       "      <td>2015</td>\n",
       "      <td>May</td>\n",
       "      <td>6</td>\n",
       "      <td>4.0</td>\n",
       "      <td>SPRING</td>\n",
       "      <td>0</td>\n",
       "      <td>Category_1</td>\n",
       "    </tr>\n",
       "    <tr>\n",
       "      <td>214120</td>\n",
       "      <td>4</td>\n",
       "      <td>53.9900</td>\n",
       "      <td>2015</td>\n",
       "      <td>September</td>\n",
       "      <td>0</td>\n",
       "      <td>4.0</td>\n",
       "      <td>FALL</td>\n",
       "      <td>0</td>\n",
       "      <td>Category_8</td>\n",
       "    </tr>\n",
       "    <tr>\n",
       "      <td>187736</td>\n",
       "      <td>4</td>\n",
       "      <td>2384.0701</td>\n",
       "      <td>2015</td>\n",
       "      <td>July</td>\n",
       "      <td>2</td>\n",
       "      <td>5.0</td>\n",
       "      <td>SUMMER</td>\n",
       "      <td>0</td>\n",
       "      <td>Category_4</td>\n",
       "    </tr>\n",
       "    <tr>\n",
       "      <td>221080</td>\n",
       "      <td>4</td>\n",
       "      <td>8.9900</td>\n",
       "      <td>2015</td>\n",
       "      <td>October</td>\n",
       "      <td>5</td>\n",
       "      <td>3.0</td>\n",
       "      <td>FALL</td>\n",
       "      <td>0</td>\n",
       "      <td>Category_1</td>\n",
       "    </tr>\n",
       "    <tr>\n",
       "      <td>264026</td>\n",
       "      <td>5</td>\n",
       "      <td>469.7940</td>\n",
       "      <td>2015</td>\n",
       "      <td>March</td>\n",
       "      <td>1</td>\n",
       "      <td>4.0</td>\n",
       "      <td>SPRING</td>\n",
       "      <td>0</td>\n",
       "      <td>Category_5</td>\n",
       "    </tr>\n",
       "  </tbody>\n",
       "</table>\n",
       "</div>"
      ],
      "text/plain": [
       "        TerritoryID  UnitPrice  year      month  week_day  week_of_month  \\\n",
       "29510             1    15.7455  2015        May         6            4.0   \n",
       "214120            4    53.9900  2015  September         0            4.0   \n",
       "187736            4  2384.0701  2015       July         2            5.0   \n",
       "221080            4     8.9900  2015    October         5            3.0   \n",
       "264026            5   469.7940  2015      March         1            4.0   \n",
       "\n",
       "        Season  is_holiday Product_cat  \n",
       "29510   SPRING           0  Category_1  \n",
       "214120    FALL           0  Category_8  \n",
       "187736  SUMMER           0  Category_4  \n",
       "221080    FALL           0  Category_1  \n",
       "264026  SPRING           0  Category_5  "
      ]
     },
     "execution_count": 90,
     "metadata": {},
     "output_type": "execute_result"
    }
   ],
   "source": [
    "Test_set.drop(['CustomerId' ,'OrderDate','SalesOrderNumber','ProductID','OrderQty'] ,axis=1 ,inplace=True)\n",
    "Test_set.head()"
   ]
  },
  {
   "cell_type": "code",
   "execution_count": 91,
   "metadata": {},
   "outputs": [],
   "source": [
    "test_processed=pipeline.transform(Test_set).toarray()"
   ]
  },
  {
   "cell_type": "code",
   "execution_count": 92,
   "metadata": {},
   "outputs": [
    {
     "data": {
      "text/plain": [
       "array([[ 0.        ,  0.        ,  0.        , ...,  0.        ,\n",
       "         0.        , -0.61699756],\n",
       "       [ 0.        ,  0.        ,  1.        , ...,  0.        ,\n",
       "         0.        , -0.5656638 ],\n",
       "       [ 0.        ,  0.        ,  1.        , ...,  0.        ,\n",
       "         0.        ,  2.56189152],\n",
       "       ...,\n",
       "       [ 0.        ,  0.        ,  0.        , ...,  0.        ,\n",
       "         0.        , -0.60661055],\n",
       "       [ 0.        ,  0.        ,  1.        , ...,  0.        ,\n",
       "         0.        , -0.59116659],\n",
       "       [ 0.        ,  0.        ,  0.        , ...,  0.        ,\n",
       "         0.        , -0.6247229 ]])"
      ]
     },
     "execution_count": 92,
     "metadata": {},
     "output_type": "execute_result"
    }
   ],
   "source": [
    "test_processed"
   ]
  },
  {
   "cell_type": "code",
   "execution_count": 93,
   "metadata": {},
   "outputs": [
    {
     "data": {
      "text/plain": [
       "(81246, 41)"
      ]
     },
     "execution_count": 93,
     "metadata": {},
     "output_type": "execute_result"
    }
   ],
   "source": [
    "test_processed.shape"
   ]
  },
  {
   "cell_type": "code",
   "execution_count": 94,
   "metadata": {},
   "outputs": [],
   "source": [
    "final_rmodel=rndsearch.best_estimator_\n",
    "Y_pred=final_rmodel.predict(test_processed)"
   ]
  },
  {
   "cell_type": "code",
   "execution_count": 95,
   "metadata": {},
   "outputs": [],
   "source": [
    "final_model=gridsearch.best_estimator_\n",
    "Pred_Target=final_model.predict(test_processed)"
   ]
  },
  {
   "cell_type": "code",
   "execution_count": 96,
   "metadata": {},
   "outputs": [
    {
     "name": "stdout",
     "output_type": "stream",
     "text": [
      "The RMSE of the Random Forest Model using RandomizedSearchCV is: 1.5653147552217777\n"
     ]
    }
   ],
   "source": [
    "RMSE=np.sqrt(mean_squared_error(Y_target,Y_pred))\n",
    "print('The RMSE of the Random Forest Model using RandomizedSearchCV is:',RMSE)"
   ]
  },
  {
   "cell_type": "code",
   "execution_count": 97,
   "metadata": {},
   "outputs": [
    {
     "name": "stdout",
     "output_type": "stream",
     "text": [
      "The RMSE of the Random Forest Model using GridSearchCV is: 1.5650069756179146\n"
     ]
    }
   ],
   "source": [
    "RMSE=np.sqrt(mean_squared_error(Y_target,Pred_Target))\n",
    "print('The RMSE of the Random Forest Model using GridSearchCV is:',RMSE)"
   ]
  },
  {
   "cell_type": "markdown",
   "metadata": {},
   "source": [
    "Both the models are having almost same RMSE on the test data."
   ]
  }
 ],
 "metadata": {
  "kernelspec": {
   "display_name": "Python 3",
   "language": "python",
   "name": "python3"
  },
  "language_info": {
   "codemirror_mode": {
    "name": "ipython",
    "version": 3
   },
   "file_extension": ".py",
   "mimetype": "text/x-python",
   "name": "python",
   "nbconvert_exporter": "python",
   "pygments_lexer": "ipython3",
   "version": "3.7.4"
  }
 },
 "nbformat": 4,
 "nbformat_minor": 2
}
